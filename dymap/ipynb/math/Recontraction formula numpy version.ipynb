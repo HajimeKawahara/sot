{
 "cells": [
  {
   "cell_type": "code",
   "execution_count": 1,
   "metadata": {},
   "outputs": [],
   "source": [
    "import gpmatrix \n",
    "import numpy as np\n",
    "from sklearn.datasets import make_spd_matrix\n",
    "import scipy"
   ]
  },
  {
   "cell_type": "code",
   "execution_count": 229,
   "metadata": {},
   "outputs": [],
   "source": [
    "Ni=3\n",
    "Nj=5\n",
    "W=np.random.random((Ni,Nj))\n",
    "tilW=gpmatrix.make_tilW(W)"
   ]
  },
  {
   "cell_type": "code",
   "execution_count": 230,
   "metadata": {},
   "outputs": [
    {
     "data": {
      "text/plain": [
       "array([[0.92249796, 0.34143647, 0.86567877, 0.414497  , 0.35078144],\n",
       "       [0.29904709, 0.87380592, 0.41278311, 0.16658541, 0.59967902],\n",
       "       [0.98774947, 0.65428259, 0.24682309, 0.40086325, 0.33485015]])"
      ]
     },
     "execution_count": 230,
     "metadata": {},
     "output_type": "execute_result"
    }
   ],
   "source": [
    "W"
   ]
  },
  {
   "cell_type": "code",
   "execution_count": 231,
   "metadata": {},
   "outputs": [],
   "source": [
    "def vec(A):\n",
    "    return A.T.reshape(Ni*Nj)"
   ]
  },
  {
   "cell_type": "code",
   "execution_count": 232,
   "metadata": {},
   "outputs": [
    {
     "data": {
      "text/plain": [
       "array([0.92249796, 0.29904709, 0.98774947, 0.34143647, 0.87380592,\n",
       "       0.65428259, 0.86567877, 0.41278311, 0.24682309, 0.414497  ,\n",
       "       0.16658541, 0.40086325, 0.35078144, 0.59967902, 0.33485015])"
      ]
     },
     "execution_count": 232,
     "metadata": {},
     "output_type": "execute_result"
    }
   ],
   "source": [
    "vec(W)"
   ]
  },
  {
   "cell_type": "code",
   "execution_count": 233,
   "metadata": {},
   "outputs": [],
   "source": [
    "def mat(A):\n",
    "    return (A.reshape(Nj,Ni)).T"
   ]
  },
  {
   "cell_type": "code",
   "execution_count": 234,
   "metadata": {},
   "outputs": [
    {
     "data": {
      "text/plain": [
       "array([[0., 0., 0., 0., 0.],\n",
       "       [0., 0., 0., 0., 0.],\n",
       "       [0., 0., 0., 0., 0.]])"
      ]
     },
     "execution_count": 234,
     "metadata": {},
     "output_type": "execute_result"
    }
   ],
   "source": [
    "W-mat(vec(W))"
   ]
  },
  {
   "cell_type": "code",
   "execution_count": 235,
   "metadata": {},
   "outputs": [],
   "source": [
    "A=np.random.random((Ni,Nj))"
   ]
  },
  {
   "cell_type": "markdown",
   "metadata": {},
   "source": [
    "## basic expansion/contraction relation"
   ]
  },
  {
   "cell_type": "code",
   "execution_count": 236,
   "metadata": {},
   "outputs": [
    {
     "data": {
      "text/plain": [
       "array([0., 0., 0.])"
      ]
     },
     "execution_count": 236,
     "metadata": {},
     "output_type": "execute_result"
    }
   ],
   "source": [
    "tilW@vec(A)-np.sum(W*A,axis=1)"
   ]
  },
  {
   "cell_type": "markdown",
   "metadata": {},
   "source": [
    "## Recontraction Formula 1"
   ]
  },
  {
   "cell_type": "code",
   "execution_count": 237,
   "metadata": {},
   "outputs": [],
   "source": [
    "S=make_spd_matrix(Nj)\n",
    "T=make_spd_matrix(Ni)"
   ]
  },
  {
   "cell_type": "code",
   "execution_count": 238,
   "metadata": {},
   "outputs": [],
   "source": [
    "Y1=tilW@(np.kron(S,T))@tilW.T"
   ]
  },
  {
   "cell_type": "code",
   "execution_count": 239,
   "metadata": {},
   "outputs": [],
   "source": [
    "Y2=T*(W@S@W.T)"
   ]
  },
  {
   "cell_type": "code",
   "execution_count": 240,
   "metadata": {},
   "outputs": [
    {
     "data": {
      "text/plain": [
       "array([[ 0.00000000e+00,  0.00000000e+00,  0.00000000e+00],\n",
       "       [-1.11022302e-16, -8.88178420e-16, -4.44089210e-16],\n",
       "       [ 0.00000000e+00,  0.00000000e+00, -1.77635684e-15]])"
      ]
     },
     "execution_count": 240,
     "metadata": {},
     "output_type": "execute_result"
    }
   ],
   "source": [
    "Y1-Y2"
   ]
  },
  {
   "cell_type": "markdown",
   "metadata": {},
   "source": [
    "## Recontraction Formula 2"
   ]
  },
  {
   "cell_type": "code",
   "execution_count": 241,
   "metadata": {},
   "outputs": [],
   "source": [
    "X=np.random.random(Ni)"
   ]
  },
  {
   "cell_type": "code",
   "execution_count": 242,
   "metadata": {},
   "outputs": [],
   "source": [
    "Y1=mat(np.kron(S,T)@tilW.T@X)"
   ]
  },
  {
   "cell_type": "code",
   "execution_count": 244,
   "metadata": {},
   "outputs": [],
   "source": [
    "Wx=W*(np.outer(X,np.ones(Nj)))\n",
    "Y2=T@Wx@S"
   ]
  },
  {
   "cell_type": "code",
   "execution_count": 245,
   "metadata": {},
   "outputs": [
    {
     "data": {
      "text/plain": [
       "array([[ 8.88178420e-16,  1.11022302e-15,  4.16333634e-16,\n",
       "        -1.08940634e-15, -1.37043155e-16],\n",
       "       [-5.55111512e-15,  8.88178420e-16, -1.33226763e-15,\n",
       "         3.33066907e-15,  1.60982339e-15],\n",
       "       [-7.54951657e-15,  3.55271368e-15, -1.33226763e-15,\n",
       "         3.99680289e-15,  2.72004641e-15]])"
      ]
     },
     "execution_count": 245,
     "metadata": {},
     "output_type": "execute_result"
    }
   ],
   "source": [
    "Y1-Y2"
   ]
  },
  {
   "cell_type": "code",
   "execution_count": 246,
   "metadata": {},
   "outputs": [],
   "source": [
    "Y3=(T*X)@W@S"
   ]
  },
  {
   "cell_type": "code",
   "execution_count": 247,
   "metadata": {},
   "outputs": [
    {
     "data": {
      "text/plain": [
       "array([[ 8.88178420e-16,  1.16573418e-15,  4.71844785e-16,\n",
       "        -1.08940634e-15, -1.45716772e-16],\n",
       "       [-5.77315973e-15,  4.44089210e-16, -1.33226763e-15,\n",
       "         3.77475828e-15,  1.60982339e-15],\n",
       "       [-7.54951657e-15,  3.55271368e-15, -1.33226763e-15,\n",
       "         3.99680289e-15,  2.77555756e-15]])"
      ]
     },
     "execution_count": 247,
     "metadata": {},
     "output_type": "execute_result"
    }
   ],
   "source": [
    "Y1-Y3"
   ]
  },
  {
   "cell_type": "code",
   "execution_count": 253,
   "metadata": {},
   "outputs": [],
   "source": [
    "Y4=T@(W.T*X).T@S"
   ]
  },
  {
   "cell_type": "code",
   "execution_count": 254,
   "metadata": {},
   "outputs": [
    {
     "data": {
      "text/plain": [
       "array([[ 8.88178420e-16,  1.11022302e-15,  4.16333634e-16,\n",
       "        -1.08940634e-15, -1.37043155e-16],\n",
       "       [-5.55111512e-15,  8.88178420e-16, -1.33226763e-15,\n",
       "         3.33066907e-15,  1.60982339e-15],\n",
       "       [-7.54951657e-15,  3.55271368e-15, -1.33226763e-15,\n",
       "         3.99680289e-15,  2.72004641e-15]])"
      ]
     },
     "execution_count": 254,
     "metadata": {},
     "output_type": "execute_result"
    }
   ],
   "source": [
    "Y1-Y4"
   ]
  },
  {
   "cell_type": "code",
   "execution_count": 251,
   "metadata": {},
   "outputs": [],
   "source": [
    "Y5=T@(X*W.T).T@S"
   ]
  },
  {
   "cell_type": "code",
   "execution_count": 252,
   "metadata": {},
   "outputs": [
    {
     "data": {
      "text/plain": [
       "array([[ 8.88178420e-16,  1.11022302e-15,  4.16333634e-16,\n",
       "        -1.08940634e-15, -1.37043155e-16],\n",
       "       [-5.55111512e-15,  8.88178420e-16, -1.33226763e-15,\n",
       "         3.33066907e-15,  1.60982339e-15],\n",
       "       [-7.54951657e-15,  3.55271368e-15, -1.33226763e-15,\n",
       "         3.99680289e-15,  2.72004641e-15]])"
      ]
     },
     "execution_count": 252,
     "metadata": {},
     "output_type": "execute_result"
    }
   ],
   "source": [
    "Y1-Y5"
   ]
  },
  {
   "cell_type": "markdown",
   "metadata": {},
   "source": [
    "### speed check"
   ]
  },
  {
   "cell_type": "code",
   "execution_count": 220,
   "metadata": {},
   "outputs": [],
   "source": [
    "Ni=100\n",
    "Nj=150\n",
    "W=np.random.random((Ni,Nj))\n",
    "tilW=gpmatrix.make_tilW(W)\n",
    "S=make_spd_matrix(Nj)\n",
    "T=make_spd_matrix(Ni)\n",
    "X=np.random.random(Ni)"
   ]
  },
  {
   "cell_type": "code",
   "execution_count": 226,
   "metadata": {},
   "outputs": [
    {
     "name": "stdout",
     "output_type": "stream",
     "text": [
      "Y2 0.0008399486541748047\n",
      "Y3 0.0005054473876953125\n",
      "Y4 0.0003819465637207031\n",
      "Y5 0.00046181678771972656\n"
     ]
    }
   ],
   "source": [
    "import time \n",
    "#ts = time.time()\n",
    "#Y1=mat(np.kron(S,T)@tilW.T@X)\n",
    "#te = time.time()\n",
    "#print(\"Y1\",te-ts)\n",
    "\n",
    "ts = time.time()\n",
    "Wx=W*(np.outer(X,np.ones(Nj)))\n",
    "Y2=T@Wx@S\n",
    "te = time.time()\n",
    "print(\"Y2\",te-ts)\n",
    "\n",
    "ts = time.time()\n",
    "Wx=W*(np.outer(X,np.ones(Nj)))\n",
    "Y3=(T*X)@W@S\n",
    "te = time.time()\n",
    "print(\"Y3\",te-ts)\n",
    "\n",
    "ts = time.time()\n",
    "Y4=T@(W.T*X).T@S\n",
    "te = time.time()\n",
    "print(\"Y4\",te-ts)\n",
    "\n",
    "ts = time.time()\n",
    "Y5=T@(X*W.T).T@S\n",
    "te = time.time()\n",
    "print(\"Y5\",te-ts)\n",
    "\n",
    "\n",
    "\n",
    "#print(np.sum((Y1-Y2)**2),np.sum((Y1-Y3)**2),np.sum((Y1-Y4)**2),np.sum((Y1-Y5)**2))"
   ]
  },
  {
   "cell_type": "code",
   "execution_count": null,
   "metadata": {},
   "outputs": [],
   "source": []
  }
 ],
 "metadata": {
  "kernelspec": {
   "display_name": "Python 3",
   "language": "python",
   "name": "python3"
  },
  "language_info": {
   "codemirror_mode": {
    "name": "ipython",
    "version": 3
   },
   "file_extension": ".py",
   "mimetype": "text/x-python",
   "name": "python",
   "nbconvert_exporter": "python",
   "pygments_lexer": "ipython3",
   "version": "3.7.3"
  }
 },
 "nbformat": 4,
 "nbformat_minor": 2
}
