{
 "cells": [
  {
   "cell_type": "markdown",
   "metadata": {},
   "source": [
    "# $R=(\\tilde{W} K)^T P (\\tilde{W} K) $"
   ]
  },
  {
   "cell_type": "code",
   "execution_count": 2,
   "metadata": {},
   "outputs": [
    {
     "data": {
      "text/plain": [
       "(A, B, C, D, E, F, G, H, I)"
      ]
     },
     "execution_count": 2,
     "metadata": {},
     "output_type": "execute_result"
    }
   ],
   "source": [
    "import sympy\n",
    "from sympy.physics.quantum import TensorProduct\n",
    "sympy.var(\"a:z\")\n",
    "sympy.var(\"A:I\")"
   ]
  },
  {
   "cell_type": "markdown",
   "metadata": {},
   "source": [
    "## Symbolic check"
   ]
  },
  {
   "cell_type": "code",
   "execution_count": 38,
   "metadata": {},
   "outputs": [],
   "source": [
    "Nj=3\n",
    "Ni=2\n",
    "V = sympy.Matrix([[a,0,c,0,e,0],\n",
    "                  [0,b,0,d,0,f]]) #tilde W\n",
    "W= sympy.Matrix([[a,c,e],\n",
    "                  [b,d,f]])\n",
    "P = sympy.Matrix([[A, C],\n",
    "                  [C, D]]) #inv(I+Kw)"
   ]
  },
  {
   "cell_type": "code",
   "execution_count": 39,
   "metadata": {},
   "outputs": [],
   "source": [
    "T=sympy.Matrix([[x, z],\n",
    "                  [z, y]])\n",
    "S=sympy.Matrix([[p,n,m],\n",
    "                [n,q,l],\n",
    "                [m,l,r]])"
   ]
  },
  {
   "cell_type": "code",
   "execution_count": 40,
   "metadata": {},
   "outputs": [],
   "source": [
    "K=TensorProduct(S,T) #K\n",
    "B=V@K #V K = tilW K -- Memory size of O(Ni^2 Nj)\n",
    "R=B.T@P@B #target matrix"
   ]
  },
  {
   "cell_type": "code",
   "execution_count": 41,
   "metadata": {},
   "outputs": [],
   "source": [
    "# j-th pixel のcovariance\n",
    "def covjtrue(j):\n",
    "    return R[j*Ni:(j+1)*Ni,j*Ni:(j+1)*Ni]\n",
    "def covj(j):\n",
    "    return B[:,j*Ni:(j+1)*Ni].T@P@B[:,j*Ni:(j+1)*Ni]"
   ]
  },
  {
   "cell_type": "code",
   "execution_count": 42,
   "metadata": {},
   "outputs": [
    {
     "name": "stdout",
     "output_type": "stream",
     "text": [
      "Matrix([[0, 0], [0, 0]])\n",
      "Matrix([[0, 0], [0, 0]])\n",
      "Matrix([[0, 0], [0, 0]])\n"
     ]
    }
   ],
   "source": [
    "for j in range(0,Nj):\n",
    "    print(covj(j)-covjtrue(j))"
   ]
  },
  {
   "cell_type": "code",
   "execution_count": 15,
   "metadata": {},
   "outputs": [
    {
     "data": {
      "text/latex": [
       "$\\displaystyle \\left[\\begin{matrix}a p x + c n x + e m x & a p z + c n z + e m z\\\\b p z + d n z + f m z & b p y + d n y + f m y\\end{matrix}\\right]$"
      ],
      "text/plain": [
       "Matrix([\n",
       "[a*p*x + c*n*x + e*m*x, a*p*z + c*n*z + e*m*z],\n",
       "[b*p*z + d*n*z + f*m*z, b*p*y + d*n*y + f*m*y]])"
      ]
     },
     "execution_count": 15,
     "metadata": {},
     "output_type": "execute_result"
    }
   ],
   "source": [
    "B[:,0:Ni]"
   ]
  },
  {
   "cell_type": "code",
   "execution_count": 16,
   "metadata": {},
   "outputs": [
    {
     "data": {
      "text/latex": [
       "$\\displaystyle \\left[\\begin{matrix}x \\left(a p + c n + e m\\right) & z \\left(a p + c n + e m\\right)\\\\z \\left(b p + d n + f m\\right) & y \\left(b p + d n + f m\\right)\\end{matrix}\\right]$"
      ],
      "text/plain": [
       "Matrix([\n",
       "[x*(a*p + c*n + e*m), z*(a*p + c*n + e*m)],\n",
       "[z*(b*p + d*n + f*m), y*(b*p + d*n + f*m)]])"
      ]
     },
     "execution_count": 16,
     "metadata": {},
     "output_type": "execute_result"
    }
   ],
   "source": [
    "T.multiply_elementwise(TensorProduct(sympy.Matrix([1,1]),(W@S)[:,0].T).T)"
   ]
  },
  {
   "cell_type": "code",
   "execution_count": 17,
   "metadata": {},
   "outputs": [],
   "source": [
    "def getBj(j):\n",
    "    return T.multiply_elementwise(TensorProduct(sympy.Matrix([1,1]),(W@S)[:,j].T).T)"
   ]
  },
  {
   "cell_type": "code",
   "execution_count": 18,
   "metadata": {},
   "outputs": [
    {
     "name": "stdout",
     "output_type": "stream",
     "text": [
      "Matrix([[0, 0], [0, 0]])\n",
      "Matrix([[0, 0], [0, 0]])\n",
      "Matrix([[0, 0], [0, 0]])\n"
     ]
    }
   ],
   "source": [
    "for j in range(0,Nj):\n",
    "    print(sympy.simplify(getBj(j)- B[:,j*Ni:(j+1)*Ni]))"
   ]
  },
  {
   "cell_type": "code",
   "execution_count": 19,
   "metadata": {},
   "outputs": [],
   "source": [
    "# i-th frame のcovariance\n",
    "def covitrue(i):\n",
    "    return R[i::Ni,i::Ni]\n",
    "def covi(i):\n",
    "    return B[:,i::Ni].T@P@B[:,i::Ni]"
   ]
  },
  {
   "cell_type": "code",
   "execution_count": 20,
   "metadata": {},
   "outputs": [
    {
     "name": "stdout",
     "output_type": "stream",
     "text": [
      "Matrix([[0, 0, 0], [0, 0, 0], [0, 0, 0]])\n",
      "Matrix([[0, 0, 0], [0, 0, 0], [0, 0, 0]])\n"
     ]
    }
   ],
   "source": [
    "for i in range(0,Ni):\n",
    "    print(covi(i)-covitrue(i))"
   ]
  },
  {
   "cell_type": "code",
   "execution_count": 21,
   "metadata": {},
   "outputs": [
    {
     "data": {
      "text/latex": [
       "$\\displaystyle \\left[\\begin{matrix}a p x + c n x + e m x & a n x + c q x + e l x & a m x + c l x + e r x\\\\b p z + d n z + f m z & b n z + d q z + f l z & b m z + d l z + f r z\\end{matrix}\\right]$"
      ],
      "text/plain": [
       "Matrix([\n",
       "[a*p*x + c*n*x + e*m*x, a*n*x + c*q*x + e*l*x, a*m*x + c*l*x + e*r*x],\n",
       "[b*p*z + d*n*z + f*m*z, b*n*z + d*q*z + f*l*z, b*m*z + d*l*z + f*r*z]])"
      ]
     },
     "execution_count": 21,
     "metadata": {},
     "output_type": "execute_result"
    }
   ],
   "source": [
    "B[:,0::Ni]"
   ]
  },
  {
   "cell_type": "code",
   "execution_count": 293,
   "metadata": {},
   "outputs": [],
   "source": [
    "K=TensorProduct(S,T) #K\n",
    "B=V@K #tilW K Memory O(Ni^2 Nj)"
   ]
  },
  {
   "cell_type": "code",
   "execution_count": 294,
   "metadata": {},
   "outputs": [
    {
     "data": {
      "text/latex": [
       "$\\displaystyle \\left[\\begin{matrix}a p + c i + e j & a i + c q + e l & a j + c l + e r\\\\b p + d i + f j & b i + d q + f l & b j + d l + f r\\end{matrix}\\right]$"
      ],
      "text/plain": [
       "Matrix([\n",
       "[a*p + c*i + e*j, a*i + c*q + e*l, a*j + c*l + e*r],\n",
       "[b*p + d*i + f*j, b*i + d*q + f*l, b*j + d*l + f*r]])"
      ]
     },
     "execution_count": 294,
     "metadata": {},
     "output_type": "execute_result"
    }
   ],
   "source": [
    "W@S"
   ]
  },
  {
   "cell_type": "code",
   "execution_count": 295,
   "metadata": {},
   "outputs": [
    {
     "data": {
      "text/latex": [
       "$\\displaystyle \\left[\\begin{matrix}x & x & x\\\\z & z & z\\end{matrix}\\right]$"
      ],
      "text/plain": [
       "Matrix([\n",
       "[x, x, x],\n",
       "[z, z, z]])"
      ]
     },
     "execution_count": 295,
     "metadata": {},
     "output_type": "execute_result"
    }
   ],
   "source": [
    "TensorProduct(sympy.Matrix([1,1,1]),T[0,:]).T"
   ]
  },
  {
   "cell_type": "code",
   "execution_count": 296,
   "metadata": {},
   "outputs": [],
   "source": [
    "def getBi(i):\n",
    "    return (W@S).multiply_elementwise(TensorProduct(sympy.Matrix([1,1,1]),T[i,:]).T)"
   ]
  },
  {
   "cell_type": "code",
   "execution_count": 297,
   "metadata": {},
   "outputs": [
    {
     "name": "stdout",
     "output_type": "stream",
     "text": [
      "Matrix([[0, 0, 0], [0, 0, 0]])\n",
      "Matrix([[0, 0, 0], [0, 0, 0]])\n"
     ]
    }
   ],
   "source": [
    "for i in range(0,Ni):\n",
    "    print(sympy.simplify(getBi(i)- B[:,i::Ni]))"
   ]
  },
  {
   "cell_type": "code",
   "execution_count": 298,
   "metadata": {},
   "outputs": [
    {
     "data": {
      "text/latex": [
       "$\\displaystyle \\left[\\begin{matrix}p x & i x & j x\\\\i x & q x & l x\\\\j x & l x & r x\\end{matrix}\\right]$"
      ],
      "text/plain": [
       "Matrix([\n",
       "[p*x, i*x, j*x],\n",
       "[i*x, q*x, l*x],\n",
       "[j*x, l*x, r*x]])"
      ]
     },
     "execution_count": 298,
     "metadata": {},
     "output_type": "execute_result"
    }
   ],
   "source": [
    "K[0::Ni,0::Ni]"
   ]
  },
  {
   "cell_type": "code",
   "execution_count": 299,
   "metadata": {},
   "outputs": [
    {
     "name": "stdout",
     "output_type": "stream",
     "text": [
      "Matrix([[0, 0, 0], [0, 0, 0], [0, 0, 0]])\n",
      "Matrix([[0, 0, 0], [0, 0, 0], [0, 0, 0]])\n"
     ]
    }
   ],
   "source": [
    "for i in range(0,Ni):\n",
    "    print(S*T[i,i] - K[i::Ni,i::Ni])"
   ]
  },
  {
   "cell_type": "code",
   "execution_count": 300,
   "metadata": {},
   "outputs": [
    {
     "name": "stdout",
     "output_type": "stream",
     "text": [
      "Matrix([[0, 0], [0, 0]])\n",
      "Matrix([[0, 0], [0, 0]])\n",
      "Matrix([[0, 0], [0, 0]])\n"
     ]
    }
   ],
   "source": [
    "for j in range(0,Nj):\n",
    "    print(S[j,j]*T - K[j*Ni:(j+1)*Ni,j*Ni:(j+1)*Ni])"
   ]
  },
  {
   "cell_type": "markdown",
   "metadata": {},
   "source": [
    "## numerical check"
   ]
  },
  {
   "cell_type": "code",
   "execution_count": 23,
   "metadata": {},
   "outputs": [],
   "source": [
    "import gpmatrix \n",
    "import numpy as np\n",
    "from sklearn.datasets import make_spd_matrix\n",
    "import scipy"
   ]
  },
  {
   "cell_type": "code",
   "execution_count": 24,
   "metadata": {},
   "outputs": [],
   "source": [
    "Ni=10\n",
    "Nj=8\n",
    "W=np.random.random((Ni,Nj))\n",
    "tilW=gpmatrix.make_tilW(W)\n",
    "KS=make_spd_matrix(Nj)\n",
    "KT=make_spd_matrix(Ni)\n",
    "K=np.kron(KS,KT)\n",
    "KW=KT*(W@KS@W.T)\n",
    "P=np.linalg.inv(np.eye(Ni)+KW)"
   ]
  },
  {
   "cell_type": "code",
   "execution_count": 25,
   "metadata": {},
   "outputs": [],
   "source": [
    "def Bivec(i):\n",
    "    return ((W@KS).T*KT[i,:]).T\n",
    "\n",
    "def BiPBi(i):\n",
    "    Bi=Bivec(i)\n",
    "    return Bi.T@(P)@Bi\n",
    "\n",
    "def Covi(i):\n",
    "    return KS*KT[i,i]-BiPBi(i)"
   ]
  },
  {
   "cell_type": "code",
   "execution_count": 26,
   "metadata": {},
   "outputs": [
    {
     "data": {
      "text/plain": [
       "0.0"
      ]
     },
     "execution_count": 26,
     "metadata": {},
     "output_type": "execute_result"
    }
   ],
   "source": [
    "Bi=((W@KS).T*KT[0,:]).T\n",
    "BiX=(W@KS)*np.outer(KT[0,:],np.ones(Nj)) #等価表現　= (W KS) odot (KT[0,] outer 1)\n",
    "np.sum((Bi-BiX)**2)"
   ]
  },
  {
   "cell_type": "code",
   "execution_count": 27,
   "metadata": {},
   "outputs": [
    {
     "data": {
      "text/plain": [
       "0.0"
      ]
     },
     "execution_count": 27,
     "metadata": {},
     "output_type": "execute_result"
    }
   ],
   "source": [
    "Bj=(KT.T*((W@KS)[:,0])).T\n",
    "BjX=KT*np.outer((W@KS)[:,0],np.ones(Ni)) #等価表現\n",
    "np.sum((Bj-BjX)**2)"
   ]
  },
  {
   "cell_type": "code",
   "execution_count": 28,
   "metadata": {},
   "outputs": [],
   "source": [
    "def Covi(i):\n",
    "    Bi=((W@KS).T*KT[i,:]).T\n",
    "    #Bi=(W@KS)*np.outer(KT[i,:],np.ones(Nj))\n",
    "    return KS*KT[i,i]-Bi.T@P@Bi"
   ]
  },
  {
   "cell_type": "code",
   "execution_count": 29,
   "metadata": {},
   "outputs": [],
   "source": [
    "def Covj(j):\n",
    "    Bj=(KT.T*((W@KS)[:,j])).T\n",
    "    #Bj=KT*np.outer((W@KS)[:,j],np.ones(Ni))\n",
    "    return KS[j,j]*KT-(Bj.T@P@Bj)"
   ]
  },
  {
   "cell_type": "markdown",
   "metadata": {},
   "source": [
    "### Check!"
   ]
  },
  {
   "cell_type": "code",
   "execution_count": 30,
   "metadata": {},
   "outputs": [],
   "source": [
    "Cov=K-K@tilW.T@(np.linalg.inv(np.eye(Ni)+KW))@tilW@K"
   ]
  },
  {
   "cell_type": "code",
   "execution_count": 31,
   "metadata": {},
   "outputs": [
    {
     "name": "stdout",
     "output_type": "stream",
     "text": [
      "3.303972541901406e-28\n",
      "2.529547685319792e-29\n",
      "6.35980586235553e-30\n",
      "2.2262163672324757e-28\n",
      "1.0651403705682218e-27\n",
      "4.175483526979581e-29\n",
      "7.110668169773782e-29\n",
      "2.2970277557214904e-27\n",
      "5.527197458447762e-29\n",
      "3.975017090186959e-30\n"
     ]
    }
   ],
   "source": [
    "for i in range(0,Ni):\n",
    "    print(np.sum((Covi(i) - Cov[i::Ni,i::Ni])**2))"
   ]
  },
  {
   "cell_type": "code",
   "execution_count": 32,
   "metadata": {},
   "outputs": [
    {
     "name": "stdout",
     "output_type": "stream",
     "text": [
      "5.0217908599331875e-29\n",
      "7.15744521644837e-27\n",
      "1.0151912715343919e-26\n",
      "5.9496494695253734e-27\n",
      "2.2753560183736854e-28\n",
      "6.189285454480615e-30\n",
      "4.558198284427645e-28\n",
      "1.4473888347979923e-28\n"
     ]
    }
   ],
   "source": [
    "for j in range(0,Nj):\n",
    "    print(np.sum((Covj(j) - Cov[j*Ni:(j+1)*Ni,j*Ni:(j+1)*Ni])**2))"
   ]
  },
  {
   "cell_type": "markdown",
   "metadata": {},
   "source": [
    "## definition of the bullet operator"
   ]
  },
  {
   "cell_type": "code",
   "execution_count": 334,
   "metadata": {},
   "outputs": [],
   "source": [
    "W=np.array([[1,2],[3,4]])\n",
    "a=np.array([10,20])"
   ]
  },
  {
   "cell_type": "code",
   "execution_count": 346,
   "metadata": {},
   "outputs": [
    {
     "data": {
      "text/plain": [
       "(array([10, 30]), array([40, 80]))"
      ]
     },
     "execution_count": 346,
     "metadata": {},
     "output_type": "execute_result"
    }
   ],
   "source": [
    "Y=(W*a) # W bullet a\n",
    "Y[:,0],Y[:,1]"
   ]
  },
  {
   "cell_type": "markdown",
   "metadata": {},
   "source": [
    "$(W \\bullet  \\boldsymbol{a})_{ij} = W_{ij} a_j$"
   ]
  },
  {
   "cell_type": "code",
   "execution_count": 336,
   "metadata": {},
   "outputs": [
    {
     "data": {
      "text/plain": [
       "(array([10, 30]), array([40, 80]))"
      ]
     },
     "execution_count": 336,
     "metadata": {},
     "output_type": "execute_result"
    }
   ],
   "source": [
    "W[:,0]*a[0],W[:,1]*a[1]"
   ]
  },
  {
   "cell_type": "markdown",
   "metadata": {},
   "source": [
    "$W \\bullet  \\boldsymbol{a}  = W \\odot ( \\boldsymbol{1} \\times \\boldsymbol{a} ) $"
   ]
  },
  {
   "cell_type": "code",
   "execution_count": 340,
   "metadata": {},
   "outputs": [],
   "source": [
    "Y=(W*np.outer(np.ones(2),a))"
   ]
  },
  {
   "cell_type": "code",
   "execution_count": 342,
   "metadata": {},
   "outputs": [
    {
     "data": {
      "text/plain": [
       "(array([10., 30.]), array([40., 80.]))"
      ]
     },
     "execution_count": 342,
     "metadata": {},
     "output_type": "execute_result"
    }
   ],
   "source": [
    "Y[:,0],Y[:,1]"
   ]
  },
  {
   "cell_type": "markdown",
   "metadata": {},
   "source": [
    "$W \\bullet  \\boldsymbol{a}  = W \\odot (  \\boldsymbol{a} \\times \\boldsymbol{1} )^T $"
   ]
  },
  {
   "cell_type": "code",
   "execution_count": 344,
   "metadata": {},
   "outputs": [
    {
     "data": {
      "text/plain": [
       "(array([10., 30.]), array([40., 80.]))"
      ]
     },
     "execution_count": 344,
     "metadata": {},
     "output_type": "execute_result"
    }
   ],
   "source": [
    "Y=(W*(np.outer(a,np.ones(2))).T)\n",
    "Y[:,0],Y[:,1]"
   ]
  }
 ],
 "metadata": {
  "kernelspec": {
   "display_name": "Python 3",
   "language": "python",
   "name": "python3"
  },
  "language_info": {
   "codemirror_mode": {
    "name": "ipython",
    "version": 3
   },
   "file_extension": ".py",
   "mimetype": "text/x-python",
   "name": "python",
   "nbconvert_exporter": "python",
   "pygments_lexer": "ipython3",
   "version": "3.7.3"
  }
 },
 "nbformat": 4,
 "nbformat_minor": 2
}
