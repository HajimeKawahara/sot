{
 "cells": [
  {
   "cell_type": "code",
   "execution_count": 12,
   "metadata": {},
   "outputs": [
    {
     "data": {
      "text/plain": [
       "(A, B, C, D, E, F, G, H, I)"
      ]
     },
     "execution_count": 12,
     "metadata": {},
     "output_type": "execute_result"
    }
   ],
   "source": [
    "import sympy\n",
    "sympy.var(\"a:z\")\n",
    "sympy.var(\"A:I\")"
   ]
  },
  {
   "cell_type": "code",
   "execution_count": 13,
   "metadata": {},
   "outputs": [],
   "source": [
    "#Nj=3, Ni=2\n",
    "V = sympy.Matrix([[a,0,c,0,e,0],\n",
    "                  [0,b,0,d,0,f]])\n",
    "W= sympy.Matrix([[a,c,e],\n",
    "                  [b,d,f]])\n",
    "P = sympy.Matrix([[A, B],\n",
    "                  [C, D]])"
   ]
  },
  {
   "cell_type": "markdown",
   "metadata": {},
   "source": [
    "## 最初の内側の項 ($Q=\\tilde{W} P \\tilde{W}^T$)"
   ]
  },
  {
   "cell_type": "code",
   "execution_count": 14,
   "metadata": {},
   "outputs": [],
   "source": [
    "Q=V.T@P@V #V is tilde(W)"
   ]
  },
  {
   "cell_type": "code",
   "execution_count": 15,
   "metadata": {},
   "outputs": [
    {
     "data": {
      "text/latex": [
       "$\\displaystyle \\left[\\begin{matrix}A a^{2} & B a b & A a c & B a d & A a e & B a f\\\\C a b & D b^{2} & C b c & D b d & C b e & D b f\\\\A a c & B b c & A c^{2} & B c d & A c e & B c f\\\\C a d & D b d & C c d & D d^{2} & C d e & D d f\\\\A a e & B b e & A c e & B d e & A e^{2} & B e f\\\\C a f & D b f & C c f & D d f & C e f & D f^{2}\\end{matrix}\\right]$"
      ],
      "text/plain": [
       "Matrix([\n",
       "[A*a**2,  B*a*b,  A*a*c,  B*a*d,  A*a*e,  B*a*f],\n",
       "[ C*a*b, D*b**2,  C*b*c,  D*b*d,  C*b*e,  D*b*f],\n",
       "[ A*a*c,  B*b*c, A*c**2,  B*c*d,  A*c*e,  B*c*f],\n",
       "[ C*a*d,  D*b*d,  C*c*d, D*d**2,  C*d*e,  D*d*f],\n",
       "[ A*a*e,  B*b*e,  A*c*e,  B*d*e, A*e**2,  B*e*f],\n",
       "[ C*a*f,  D*b*f,  C*c*f,  D*d*f,  C*e*f, D*f**2]])"
      ]
     },
     "execution_count": 15,
     "metadata": {},
     "output_type": "execute_result"
    }
   ],
   "source": [
    "Q"
   ]
  },
  {
   "cell_type": "code",
   "execution_count": 51,
   "metadata": {},
   "outputs": [],
   "source": [
    "#場所jに対する取り出し\n",
    "def pick_pixwise(j):\n",
    "    s = W[:,j].T\n",
    "    X=(s.T@s).multiply_elementwise(P)\n",
    "    return X"
   ]
  },
  {
   "cell_type": "code",
   "execution_count": 59,
   "metadata": {},
   "outputs": [
    {
     "data": {
      "text/latex": [
       "$\\displaystyle \\left[\\begin{matrix}A c^{2} & B c d\\\\C c d & D d^{2}\\end{matrix}\\right]$"
      ],
      "text/plain": [
       "Matrix([\n",
       "[A*c**2,  B*c*d],\n",
       "[ C*c*d, D*d**2]])"
      ]
     },
     "execution_count": 59,
     "metadata": {},
     "output_type": "execute_result"
    }
   ],
   "source": [
    "j=1\n",
    "pick_pixwise(j)"
   ]
  },
  {
   "cell_type": "code",
   "execution_count": 60,
   "metadata": {},
   "outputs": [],
   "source": [
    "#時刻iに対して取り出したければ、Pは対角成分だけで良い。\n",
    "def pick_snapshot(i):\n",
    "    t=W[i,:]\n",
    "    X=P[i,i]*(t.T@t)\n",
    "    return X"
   ]
  },
  {
   "cell_type": "code",
   "execution_count": 61,
   "metadata": {},
   "outputs": [
    {
     "data": {
      "text/latex": [
       "$\\displaystyle \\left[\\begin{matrix}A a^{2} & A a c & A a e\\\\A a c & A c^{2} & A c e\\\\A a e & A c e & A e^{2}\\end{matrix}\\right]$"
      ],
      "text/plain": [
       "Matrix([\n",
       "[A*a**2,  A*a*c,  A*a*e],\n",
       "[ A*a*c, A*c**2,  A*c*e],\n",
       "[ A*a*e,  A*c*e, A*e**2]])"
      ]
     },
     "execution_count": 61,
     "metadata": {},
     "output_type": "execute_result"
    }
   ],
   "source": [
    "i=0\n",
    "pick_snapshot(i)"
   ]
  },
  {
   "cell_type": "code",
   "execution_count": 21,
   "metadata": {},
   "outputs": [
    {
     "data": {
      "text/latex": [
       "$\\displaystyle \\left[\\begin{matrix}A a^{2} & B a b\\\\A a c & B b c\\\\A a e & B b e\\end{matrix}\\right]$"
      ],
      "text/plain": [
       "Matrix([\n",
       "[A*a**2, B*a*b],\n",
       "[ A*a*c, B*b*c],\n",
       "[ A*a*e, B*b*e]])"
      ]
     },
     "execution_count": 21,
     "metadata": {},
     "output_type": "execute_result"
    }
   ],
   "source": [
    "TensorProduct(W[:,0].multiply_elementwise(P[0,:].T),W[0,:]).T"
   ]
  },
  {
   "cell_type": "code",
   "execution_count": 22,
   "metadata": {},
   "outputs": [
    {
     "data": {
      "text/latex": [
       "$\\displaystyle \\left[\\begin{matrix}C a b & D b^{2}\\\\C a d & D b d\\\\C a f & D b f\\end{matrix}\\right]$"
      ],
      "text/plain": [
       "Matrix([\n",
       "[C*a*b, D*b**2],\n",
       "[C*a*d,  D*b*d],\n",
       "[C*a*f,  D*b*f]])"
      ]
     },
     "execution_count": 22,
     "metadata": {},
     "output_type": "execute_result"
    }
   ],
   "source": [
    "TensorProduct(W[:,0].multiply_elementwise(P[1,:].T),W[1,:]).T"
   ]
  },
  {
   "cell_type": "code",
   "execution_count": 23,
   "metadata": {},
   "outputs": [
    {
     "data": {
      "text/latex": [
       "$\\displaystyle \\left[\\begin{matrix}a^{2} & a b\\\\a b & b^{2}\\end{matrix}\\right]$"
      ],
      "text/plain": [
       "Matrix([\n",
       "[a**2,  a*b],\n",
       "[ a*b, b**2]])"
      ]
     },
     "execution_count": 23,
     "metadata": {},
     "output_type": "execute_result"
    }
   ],
   "source": [
    "#場所jに対するi方向取り出し\n",
    "s = W[:,0].T\n",
    "t=W[0,:]\n",
    "#X=((W.T@W).multiply_elementwise(P))\n",
    "s.T@s\n",
    "\n"
   ]
  },
  {
   "cell_type": "markdown",
   "metadata": {},
   "source": [
    "## 次の内側の項 ($K Q K$)"
   ]
  },
  {
   "cell_type": "code",
   "execution_count": 24,
   "metadata": {},
   "outputs": [],
   "source": [
    "T=sympy.Matrix([[x, z],\n",
    "                  [z, y]])\n",
    "S=sympy.Matrix([[p,i,j],\n",
    "                [i,q,l],\n",
    "                [j,l,r]])"
   ]
  },
  {
   "cell_type": "code",
   "execution_count": 25,
   "metadata": {},
   "outputs": [
    {
     "data": {
      "text/latex": [
       "$\\displaystyle \\left[\\begin{matrix}p x & p z & i x & i z & j x & j z\\\\p z & p y & i z & i y & j z & j y\\\\i x & i z & q x & q z & l x & l z\\\\i z & i y & q z & q y & l z & l y\\\\j x & j z & l x & l z & r x & r z\\\\j z & j y & l z & l y & r z & r y\\end{matrix}\\right]$"
      ],
      "text/plain": [
       "Matrix([\n",
       "[p*x, p*z, i*x, i*z, j*x, j*z],\n",
       "[p*z, p*y, i*z, i*y, j*z, j*y],\n",
       "[i*x, i*z, q*x, q*z, l*x, l*z],\n",
       "[i*z, i*y, q*z, q*y, l*z, l*y],\n",
       "[j*x, j*z, l*x, l*z, r*x, r*z],\n",
       "[j*z, j*y, l*z, l*y, r*z, r*y]])"
      ]
     },
     "execution_count": 25,
     "metadata": {},
     "output_type": "execute_result"
    }
   ],
   "source": [
    "from sympy.physics.quantum import TensorProduct\n",
    "K=TensorProduct(S,T)\n",
    "K"
   ]
  },
  {
   "cell_type": "code",
   "execution_count": 26,
   "metadata": {},
   "outputs": [],
   "source": [
    "L=K@Q@K"
   ]
  },
  {
   "cell_type": "code",
   "execution_count": 27,
   "metadata": {},
   "outputs": [
    {
     "data": {
      "text/latex": [
       "$\\displaystyle a p x \\left(A a p x + A c i x + A e j x + C b p z + C d i z + C f j z\\right) + b p z \\left(B a p x + B c i x + B e j x + D b p z + D d i z + D f j z\\right) + c i x \\left(A a p x + A c i x + A e j x + C b p z + C d i z + C f j z\\right) + d i z \\left(B a p x + B c i x + B e j x + D b p z + D d i z + D f j z\\right) + e j x \\left(A a p x + A c i x + A e j x + C b p z + C d i z + C f j z\\right) + f j z \\left(B a p x + B c i x + B e j x + D b p z + D d i z + D f j z\\right)$"
      ],
      "text/plain": [
       "a*p*x*(A*a*p*x + A*c*i*x + A*e*j*x + C*b*p*z + C*d*i*z + C*f*j*z) + b*p*z*(B*a*p*x + B*c*i*x + B*e*j*x + D*b*p*z + D*d*i*z + D*f*j*z) + c*i*x*(A*a*p*x + A*c*i*x + A*e*j*x + C*b*p*z + C*d*i*z + C*f*j*z) + d*i*z*(B*a*p*x + B*c*i*x + B*e*j*x + D*b*p*z + D*d*i*z + D*f*j*z) + e*j*x*(A*a*p*x + A*c*i*x + A*e*j*x + C*b*p*z + C*d*i*z + C*f*j*z) + f*j*z*(B*a*p*x + B*c*i*x + B*e*j*x + D*b*p*z + D*d*i*z + D*f*j*z)"
      ]
     },
     "execution_count": 27,
     "metadata": {},
     "output_type": "execute_result"
    }
   ],
   "source": [
    "#l,q,rは入らない\n",
    "#x,y,z\n",
    "sympy.simplify(L[0,0])"
   ]
  },
  {
   "cell_type": "code",
   "execution_count": 28,
   "metadata": {},
   "outputs": [],
   "source": [
    "F=TensorProduct(S[0,:],T[0:Ni,:])\n",
    "E=F@Q@F.T"
   ]
  },
  {
   "cell_type": "code",
   "execution_count": 29,
   "metadata": {},
   "outputs": [
    {
     "data": {
      "text/latex": [
       "$\\displaystyle \\left[\\begin{matrix}0 & 0\\\\0 & 0\\end{matrix}\\right]$"
      ],
      "text/plain": [
       "Matrix([\n",
       "[0, 0],\n",
       "[0, 0]])"
      ]
     },
     "execution_count": 29,
     "metadata": {},
     "output_type": "execute_result"
    }
   ],
   "source": [
    "sympy.simplify(L[0:Ni,0:Ni]-E)"
   ]
  },
  {
   "cell_type": "code",
   "execution_count": 30,
   "metadata": {},
   "outputs": [],
   "source": [
    "F=TensorProduct(S[0:Nj,:],T[0,:])\n",
    "E=F@Q@F.T"
   ]
  },
  {
   "cell_type": "code",
   "execution_count": 31,
   "metadata": {},
   "outputs": [
    {
     "data": {
      "text/latex": [
       "$\\displaystyle \\left[\\begin{matrix}0 & 0 & 0\\\\0 & 0 & 0\\\\0 & 0 & 0\\end{matrix}\\right]$"
      ],
      "text/plain": [
       "Matrix([\n",
       "[0, 0, 0],\n",
       "[0, 0, 0],\n",
       "[0, 0, 0]])"
      ]
     },
     "execution_count": 31,
     "metadata": {},
     "output_type": "execute_result"
    }
   ],
   "source": [
    "L[::Ni,::Ni]-E"
   ]
  },
  {
   "cell_type": "code",
   "execution_count": 32,
   "metadata": {},
   "outputs": [
    {
     "data": {
      "text/latex": [
       "$\\displaystyle \\left[\\begin{matrix}0 & 0 & 0\\\\0 & 0 & 0\\\\0 & 0 & 0\\end{matrix}\\right]$"
      ],
      "text/plain": [
       "Matrix([\n",
       "[0, 0, 0],\n",
       "[0, 0, 0],\n",
       "[0, 0, 0]])"
      ]
     },
     "execution_count": 32,
     "metadata": {},
     "output_type": "execute_result"
    }
   ],
   "source": [
    "def extracti(i):\n",
    "    F=TensorProduct(S[0:Nj,:],T[i,:])\n",
    "    E=F@Q@F.T\n",
    "    return E\n",
    "\n",
    "L[::Ni,::Ni]-extracti(0)"
   ]
  },
  {
   "cell_type": "code",
   "execution_count": 33,
   "metadata": {},
   "outputs": [
    {
     "name": "stdout",
     "output_type": "stream",
     "text": [
      "Matrix([[0, 0, 0], [0, 0, 0], [0, 0, 0]])\n",
      "Matrix([[0, 0, 0], [0, 0, 0], [0, 0, 0]])\n"
     ]
    }
   ],
   "source": [
    "for i in range(0,Ni):\n",
    "    print(L[i::Ni,i::Ni]-extracti(i))"
   ]
  },
  {
   "cell_type": "code",
   "execution_count": 34,
   "metadata": {},
   "outputs": [],
   "source": [
    "def extractj(j):\n",
    "    F=TensorProduct(S[j,:],T[0:Ni,:])\n",
    "    E=F@Q@F.T\n",
    "    return E"
   ]
  },
  {
   "cell_type": "code",
   "execution_count": 35,
   "metadata": {},
   "outputs": [
    {
     "name": "stdout",
     "output_type": "stream",
     "text": [
      "Matrix([[0, 0], [0, 0]])\n",
      "Matrix([[0, 0], [0, 0]])\n",
      "Matrix([[0, 0], [0, 0]])\n"
     ]
    }
   ],
   "source": [
    "for j in range(0,Nj):\n",
    "    print(L[j*Ni:(j+1)*Ni,j*Ni:(j+1)*Ni]-extractj(j))"
   ]
  },
  {
   "cell_type": "code",
   "execution_count": 36,
   "metadata": {},
   "outputs": [
    {
     "data": {
      "text/latex": [
       "$\\displaystyle \\left[\\begin{matrix}p x & p z & i x & i z & j x & j z\\\\i x & i z & q x & q z & l x & l z\\\\j x & j z & l x & l z & r x & r z\\end{matrix}\\right]$"
      ],
      "text/plain": [
       "Matrix([\n",
       "[p*x, p*z, i*x, i*z, j*x, j*z],\n",
       "[i*x, i*z, q*x, q*z, l*x, l*z],\n",
       "[j*x, j*z, l*x, l*z, r*x, r*z]])"
      ]
     },
     "execution_count": 36,
     "metadata": {},
     "output_type": "execute_result"
    }
   ],
   "source": [
    "F=TensorProduct(S[0:Nj,:],T[0,:])\n",
    "F"
   ]
  },
  {
   "cell_type": "code",
   "execution_count": 37,
   "metadata": {},
   "outputs": [],
   "source": [
    "## combine"
   ]
  },
  {
   "cell_type": "code",
   "execution_count": 38,
   "metadata": {},
   "outputs": [
    {
     "data": {
      "text/latex": [
       "$\\displaystyle \\left[\\begin{matrix}p x & p z & i x & i z & j x & j z\\\\i x & i z & q x & q z & l x & l z\\\\j x & j z & l x & l z & r x & r z\\end{matrix}\\right]$"
      ],
      "text/plain": [
       "Matrix([\n",
       "[p*x, p*z, i*x, i*z, j*x, j*z],\n",
       "[i*x, i*z, q*x, q*z, l*x, l*z],\n",
       "[j*x, j*z, l*x, l*z, r*x, r*z]])"
      ]
     },
     "execution_count": 38,
     "metadata": {},
     "output_type": "execute_result"
    }
   ],
   "source": [
    "F=TensorProduct(S[0:Nj,:],T[0,:])\n",
    "F"
   ]
  },
  {
   "cell_type": "code",
   "execution_count": 39,
   "metadata": {},
   "outputs": [
    {
     "data": {
      "text/latex": [
       "$\\displaystyle \\left[\\begin{matrix}p x & i x & j x\\\\i x & q x & l x\\\\j x & l x & r x\\end{matrix}\\right]$"
      ],
      "text/plain": [
       "Matrix([\n",
       "[p*x, i*x, j*x],\n",
       "[i*x, q*x, l*x],\n",
       "[j*x, l*x, r*x]])"
      ]
     },
     "execution_count": 39,
     "metadata": {},
     "output_type": "execute_result"
    }
   ],
   "source": [
    "F[:,0::Ni]"
   ]
  },
  {
   "cell_type": "code",
   "execution_count": 40,
   "metadata": {},
   "outputs": [
    {
     "data": {
      "text/latex": [
       "$\\displaystyle \\left[\\begin{matrix}p x & i x & j x\\\\i x & q x & l x\\\\j x & l x & r x\\end{matrix}\\right]$"
      ],
      "text/plain": [
       "Matrix([\n",
       "[p*x, i*x, j*x],\n",
       "[i*x, q*x, l*x],\n",
       "[j*x, l*x, r*x]])"
      ]
     },
     "execution_count": 40,
     "metadata": {},
     "output_type": "execute_result"
    }
   ],
   "source": [
    "(F[:,0::Ni]).T"
   ]
  },
  {
   "cell_type": "code",
   "execution_count": 45,
   "metadata": {},
   "outputs": [],
   "source": [
    "def getQgcol(ip):\n",
    "    return TensorProduct(W[:,0].multiply_elementwise(P[ip,:].T),W[ip,:]).T\n",
    "def gextracti(j,ip):\n",
    "    F=TensorProduct(S[j,:],T[0:Ni,:])\n",
    "    G=F[:,ip::Ni]\n",
    "    O=getQgcol(ip)\n",
    "    E=G@O@G.T\n",
    "    return Ex"
   ]
  },
  {
   "cell_type": "code",
   "execution_count": 46,
   "metadata": {},
   "outputs": [],
   "source": [
    "K=TensorProduct(S,T) #K\n",
    "B=V@K #tilW K\n",
    "R=B.T@P@B"
   ]
  },
  {
   "cell_type": "code",
   "execution_count": 47,
   "metadata": {},
   "outputs": [
    {
     "data": {
      "text/latex": [
       "$\\displaystyle \\left[\\begin{matrix}0 & 0\\\\0 & 0\\end{matrix}\\right]$"
      ],
      "text/plain": [
       "Matrix([\n",
       "[0, 0],\n",
       "[0, 0]])"
      ]
     },
     "execution_count": 47,
     "metadata": {},
     "output_type": "execute_result"
    }
   ],
   "source": [
    "B[0:Ni,0:Ni].T@P[0:Ni,0:Ni]@B[0:Ni,0:Ni] - R[0:Ni,0:Ni]"
   ]
  },
  {
   "cell_type": "code",
   "execution_count": null,
   "metadata": {},
   "outputs": [],
   "source": []
  },
  {
   "cell_type": "code",
   "execution_count": 48,
   "metadata": {},
   "outputs": [
    {
     "data": {
      "text/latex": [
       "$\\displaystyle \\left[\\begin{matrix}p x \\left(A a^{2} p x + A a c i x + A a e j x\\right) + p z \\left(B a b p x + B b c i x + B b e j x\\right) & i x \\left(A a^{2} p x + A a c i x + A a e j x\\right) + i z \\left(B a b p x + B b c i x + B b e j x\\right) & j x \\left(A a^{2} p x + A a c i x + A a e j x\\right) + j z \\left(B a b p x + B b c i x + B b e j x\\right)\\\\p x \\left(A a^{2} p z + A a c i z + A a e j z\\right) + p z \\left(B a b p z + B b c i z + B b e j z\\right) & i x \\left(A a^{2} p z + A a c i z + A a e j z\\right) + i z \\left(B a b p z + B b c i z + B b e j z\\right) & j x \\left(A a^{2} p z + A a c i z + A a e j z\\right) + j z \\left(B a b p z + B b c i z + B b e j z\\right)\\end{matrix}\\right]$"
      ],
      "text/plain": [
       "Matrix([\n",
       "[p*x*(A*a**2*p*x + A*a*c*i*x + A*a*e*j*x) + p*z*(B*a*b*p*x + B*b*c*i*x + B*b*e*j*x), i*x*(A*a**2*p*x + A*a*c*i*x + A*a*e*j*x) + i*z*(B*a*b*p*x + B*b*c*i*x + B*b*e*j*x), j*x*(A*a**2*p*x + A*a*c*i*x + A*a*e*j*x) + j*z*(B*a*b*p*x + B*b*c*i*x + B*b*e*j*x)],\n",
       "[p*x*(A*a**2*p*z + A*a*c*i*z + A*a*e*j*z) + p*z*(B*a*b*p*z + B*b*c*i*z + B*b*e*j*z), i*x*(A*a**2*p*z + A*a*c*i*z + A*a*e*j*z) + i*z*(B*a*b*p*z + B*b*c*i*z + B*b*e*j*z), j*x*(A*a**2*p*z + A*a*c*i*z + A*a*e*j*z) + j*z*(B*a*b*p*z + B*b*c*i*z + B*b*e*j*z)]])"
      ]
     },
     "execution_count": 48,
     "metadata": {},
     "output_type": "execute_result"
    }
   ],
   "source": [
    "F=TensorProduct(S[0,:],T[0:Ni,:])\n",
    "G=F[:,0::Ni]\n",
    "G@getQgcol(0)@G"
   ]
  },
  {
   "cell_type": "markdown",
   "metadata": {},
   "source": [
    "## Precision matrix"
   ]
  },
  {
   "cell_type": "code",
   "execution_count": null,
   "metadata": {},
   "outputs": [],
   "source": []
  }
 ],
 "metadata": {
  "kernelspec": {
   "display_name": "Python 3",
   "language": "python",
   "name": "python3"
  },
  "language_info": {
   "codemirror_mode": {
    "name": "ipython",
    "version": 3
   },
   "file_extension": ".py",
   "mimetype": "text/x-python",
   "name": "python",
   "nbconvert_exporter": "python",
   "pygments_lexer": "ipython3",
   "version": "3.7.3"
  }
 },
 "nbformat": 4,
 "nbformat_minor": 2
}
