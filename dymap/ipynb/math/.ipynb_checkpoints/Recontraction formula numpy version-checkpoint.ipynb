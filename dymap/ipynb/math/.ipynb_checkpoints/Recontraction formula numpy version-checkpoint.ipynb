{
 "cells": [
  {
   "cell_type": "code",
   "execution_count": 1,
   "metadata": {},
   "outputs": [],
   "source": [
    "import gpmatrix \n",
    "import numpy as np\n",
    "from sklearn.datasets import make_spd_matrix\n",
    "import scipy"
   ]
  },
  {
   "cell_type": "code",
   "execution_count": 57,
   "metadata": {},
   "outputs": [],
   "source": [
    "Ni=3\n",
    "Nj=5\n",
    "W=np.random.random((Ni,Nj))\n",
    "tilW=gpmatrix.make_tilW(W)"
   ]
  },
  {
   "cell_type": "code",
   "execution_count": 58,
   "metadata": {},
   "outputs": [
    {
     "data": {
      "text/plain": [
       "array([[8.05844452e-01, 8.27913175e-01, 7.10249547e-01, 7.74558043e-01,\n",
       "        7.41696582e-01],\n",
       "       [8.48290195e-01, 6.61924315e-02, 7.91996669e-01, 3.30772246e-01,\n",
       "        3.95629395e-01],\n",
       "       [3.06812345e-01, 8.13469076e-01, 9.92766064e-01, 5.34319880e-04,\n",
       "        3.59982887e-01]])"
      ]
     },
     "execution_count": 58,
     "metadata": {},
     "output_type": "execute_result"
    }
   ],
   "source": [
    "W"
   ]
  },
  {
   "cell_type": "code",
   "execution_count": 59,
   "metadata": {},
   "outputs": [],
   "source": [
    "def vec(A):\n",
    "    return A.T.reshape(Ni*Nj)"
   ]
  },
  {
   "cell_type": "code",
   "execution_count": 60,
   "metadata": {},
   "outputs": [
    {
     "data": {
      "text/plain": [
       "array([8.05844452e-01, 8.48290195e-01, 3.06812345e-01, 8.27913175e-01,\n",
       "       6.61924315e-02, 8.13469076e-01, 7.10249547e-01, 7.91996669e-01,\n",
       "       9.92766064e-01, 7.74558043e-01, 3.30772246e-01, 5.34319880e-04,\n",
       "       7.41696582e-01, 3.95629395e-01, 3.59982887e-01])"
      ]
     },
     "execution_count": 60,
     "metadata": {},
     "output_type": "execute_result"
    }
   ],
   "source": [
    "vec(W)"
   ]
  },
  {
   "cell_type": "code",
   "execution_count": 61,
   "metadata": {},
   "outputs": [],
   "source": [
    "def mat(A):\n",
    "    return (A.reshape(Nj,Ni)).T"
   ]
  },
  {
   "cell_type": "code",
   "execution_count": 62,
   "metadata": {},
   "outputs": [
    {
     "data": {
      "text/plain": [
       "array([[0., 0., 0., 0., 0.],\n",
       "       [0., 0., 0., 0., 0.],\n",
       "       [0., 0., 0., 0., 0.]])"
      ]
     },
     "execution_count": 62,
     "metadata": {},
     "output_type": "execute_result"
    }
   ],
   "source": [
    "W-mat(vec(W))"
   ]
  },
  {
   "cell_type": "code",
   "execution_count": 63,
   "metadata": {},
   "outputs": [],
   "source": [
    "A=np.random.random((Ni,Nj))"
   ]
  },
  {
   "cell_type": "markdown",
   "metadata": {},
   "source": [
    "## basic expansion/contraction relation"
   ]
  },
  {
   "cell_type": "code",
   "execution_count": 64,
   "metadata": {},
   "outputs": [
    {
     "data": {
      "text/plain": [
       "array([0., 0., 0.])"
      ]
     },
     "execution_count": 64,
     "metadata": {},
     "output_type": "execute_result"
    }
   ],
   "source": [
    "tilW@vec(A)-np.sum(W*A,axis=1)"
   ]
  },
  {
   "cell_type": "markdown",
   "metadata": {},
   "source": [
    "## Recontraction Formula 1"
   ]
  },
  {
   "cell_type": "code",
   "execution_count": 65,
   "metadata": {},
   "outputs": [],
   "source": [
    "S=make_spd_matrix(Nj)\n",
    "T=make_spd_matrix(Ni)"
   ]
  },
  {
   "cell_type": "code",
   "execution_count": 66,
   "metadata": {},
   "outputs": [],
   "source": [
    "Y1=tilW@(np.kron(S,T))@tilW.T"
   ]
  },
  {
   "cell_type": "code",
   "execution_count": 67,
   "metadata": {},
   "outputs": [],
   "source": [
    "Y2=T*(W@S@W.T)"
   ]
  },
  {
   "cell_type": "code",
   "execution_count": 68,
   "metadata": {},
   "outputs": [
    {
     "data": {
      "text/plain": [
       "array([[ 0.00000000e+00, -1.11022302e-16,  1.77635684e-15],\n",
       "       [-1.11022302e-16, -1.66533454e-16,  5.55111512e-17],\n",
       "       [ 0.00000000e+00, -5.55111512e-17, -8.88178420e-16]])"
      ]
     },
     "execution_count": 68,
     "metadata": {},
     "output_type": "execute_result"
    }
   ],
   "source": [
    "Y1-Y2"
   ]
  },
  {
   "cell_type": "markdown",
   "metadata": {},
   "source": [
    "## Recontraction Formula 2"
   ]
  },
  {
   "cell_type": "code",
   "execution_count": 69,
   "metadata": {},
   "outputs": [],
   "source": [
    "X=np.random.random(Ni)"
   ]
  },
  {
   "cell_type": "code",
   "execution_count": 70,
   "metadata": {},
   "outputs": [],
   "source": [
    "Y1=mat(np.kron(S,T)@tilW.T@X)"
   ]
  },
  {
   "cell_type": "code",
   "execution_count": 71,
   "metadata": {},
   "outputs": [],
   "source": [
    "Wx=W*(np.outer(X,np.ones(Nj)))"
   ]
  },
  {
   "cell_type": "code",
   "execution_count": 72,
   "metadata": {},
   "outputs": [],
   "source": [
    "Y2=T@Wx@S"
   ]
  },
  {
   "cell_type": "code",
   "execution_count": 73,
   "metadata": {},
   "outputs": [
    {
     "data": {
      "text/plain": [
       "array([[-1.33226763e-14,  6.21724894e-15,  4.44089210e-15,\n",
       "         5.32907052e-15,  1.22124533e-15],\n",
       "       [-9.15933995e-16,  3.33066907e-16,  2.77555756e-16,\n",
       "         3.60822483e-16,  6.93889390e-17],\n",
       "       [ 9.57567359e-16, -8.88178420e-16, -5.27355937e-16,\n",
       "        -5.55111512e-16, -9.71445147e-17]])"
      ]
     },
     "execution_count": 73,
     "metadata": {},
     "output_type": "execute_result"
    }
   ],
   "source": [
    "Y1-Y2"
   ]
  },
  {
   "cell_type": "code",
   "execution_count": 74,
   "metadata": {},
   "outputs": [],
   "source": [
    "Y3=(T*X)@W@S"
   ]
  },
  {
   "cell_type": "code",
   "execution_count": 83,
   "metadata": {},
   "outputs": [
    {
     "data": {
      "text/plain": [
       "array([[-1.24344979e-14,  5.32907052e-15,  2.66453526e-15,\n",
       "         4.88498131e-15,  1.11022302e-15],\n",
       "       [-9.15933995e-16,  3.33066907e-16,  2.77555756e-16,\n",
       "         3.60822483e-16,  6.93889390e-17],\n",
       "       [ 8.32667268e-16, -5.55111512e-16, -3.60822483e-16,\n",
       "        -4.99600361e-16, -5.55111512e-17]])"
      ]
     },
     "execution_count": 83,
     "metadata": {},
     "output_type": "execute_result"
    }
   ],
   "source": [
    "Y1-Y3"
   ]
  },
  {
   "cell_type": "code",
   "execution_count": 85,
   "metadata": {},
   "outputs": [],
   "source": [
    "Y4=T@(W.T*X).T@S"
   ]
  },
  {
   "cell_type": "code",
   "execution_count": 86,
   "metadata": {},
   "outputs": [
    {
     "data": {
      "text/plain": [
       "array([[-1.33226763e-14,  6.21724894e-15,  4.44089210e-15,\n",
       "         5.32907052e-15,  1.22124533e-15],\n",
       "       [-9.15933995e-16,  3.33066907e-16,  2.77555756e-16,\n",
       "         3.60822483e-16,  6.93889390e-17],\n",
       "       [ 9.57567359e-16, -8.88178420e-16, -5.27355937e-16,\n",
       "        -5.55111512e-16, -9.71445147e-17]])"
      ]
     },
     "execution_count": 86,
     "metadata": {},
     "output_type": "execute_result"
    }
   ],
   "source": [
    "Y1-Y4"
   ]
  },
  {
   "cell_type": "code",
   "execution_count": 128,
   "metadata": {},
   "outputs": [],
   "source": [
    "Ni=500\n",
    "Nj=500\n",
    "W=np.random.random((Ni,Nj))\n",
    "tilW=gpmatrix.make_tilW(W)\n",
    "S=make_spd_matrix(Nj)\n",
    "T=make_spd_matrix(Ni)\n",
    "X=np.random.random(Ni)"
   ]
  },
  {
   "cell_type": "code",
   "execution_count": 134,
   "metadata": {},
   "outputs": [
    {
     "name": "stdout",
     "output_type": "stream",
     "text": [
      "Y2 0.005540609359741211\n",
      "Y3 0.005388736724853516\n",
      "Y4 0.004799365997314453\n",
      "2.382536071389776e-21 2.382536071389776e-21\n"
     ]
    }
   ],
   "source": [
    "import time \n",
    "#ts = time.time()\n",
    "#Y1=mat(np.kron(S,T)@tilW.T@X)\n",
    "#te = time.time()\n",
    "#print(\"Y1\",te-ts)\n",
    "\n",
    "ts = time.time()\n",
    "Wx=W*(np.outer(X,np.ones(Nj)))\n",
    "Y2=T@Wx@S\n",
    "te = time.time()\n",
    "print(\"Y2\",te-ts)\n",
    "\n",
    "\n",
    "ts = time.time()\n",
    "Wx=W*(np.outer(X,np.ones(Nj)))\n",
    "Y3=(T*X)@W@S\n",
    "te = time.time()\n",
    "print(\"Y3\",te-ts)\n",
    "\n",
    "ts = time.time()\n",
    "Y4=T@(W.T*X).T@S\n",
    "te = time.time()\n",
    "print(\"Y4\",te-ts)\n",
    "\n",
    "print(np.sum((Y2-Y3)**2),np.sum((Y3-Y4)**2))"
   ]
  },
  {
   "cell_type": "code",
   "execution_count": null,
   "metadata": {},
   "outputs": [],
   "source": []
  }
 ],
 "metadata": {
  "kernelspec": {
   "display_name": "Python 3",
   "language": "python",
   "name": "python3"
  },
  "language_info": {
   "codemirror_mode": {
    "name": "ipython",
    "version": 3
   },
   "file_extension": ".py",
   "mimetype": "text/x-python",
   "name": "python",
   "nbconvert_exporter": "python",
   "pygments_lexer": "ipython3",
   "version": "3.7.3"
  }
 },
 "nbformat": 4,
 "nbformat_minor": 2
}
