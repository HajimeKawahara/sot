{
 "cells": [
  {
   "cell_type": "code",
   "execution_count": 37,
   "metadata": {},
   "outputs": [
    {
     "data": {
      "text/plain": [
       "(A, B, C, D, E, F, G, H, I, J, K, L, M, N, O, P, Q, R, S, T, U, V, W, X, Y, Z)"
      ]
     },
     "execution_count": 37,
     "metadata": {},
     "output_type": "execute_result"
    }
   ],
   "source": [
    "import sympy\n",
    "from sympy.physics.quantum import TensorProduct\n",
    "from sympy.physics.quantum import OuterProduct\n",
    "sympy.var(\"a:z\")\n",
    "sympy.var(\"A:Z\")"
   ]
  },
  {
   "cell_type": "code",
   "execution_count": 38,
   "metadata": {},
   "outputs": [],
   "source": [
    "X = sympy.Matrix([[A, B, C, D, E, F],\n",
    "                  [B, G, H, I, J, K],\n",
    "                  [C, H, L, M, N, O],\n",
    "                  [D, I, M, P, Q, R],\n",
    "                  [E, J, N, Q, W, V],\n",
    "                  [F, K, O, R, V, U]])"
   ]
  },
  {
   "cell_type": "code",
   "execution_count": 39,
   "metadata": {},
   "outputs": [],
   "source": [
    "sympy.var(\"z1,z2,m1,m2,n1,n2,l1,l2\")\n",
    "\n",
    "T=sympy.Matrix([[x, z1],\n",
    "                  [z2, y]])\n",
    "S=sympy.Matrix([[p,n1,m1],\n",
    "                [n2,q,l1],\n",
    "                [m2,l2,r]])\n",
    "Z=TensorProduct(S,T)"
   ]
  },
  {
   "cell_type": "code",
   "execution_count": 40,
   "metadata": {},
   "outputs": [],
   "source": [
    "Nj=3\n",
    "Ni=2\n",
    "W= sympy.Matrix([[a,c,e],\n",
    "                  [b,d,f]])\n",
    "sympy.var(\"tildeW\")\n",
    "tildeW = sympy.Matrix([[a,0,c,0,e,0],\n",
    "                  [0,b,0,d,0,f]]) #tilde W\n",
    "\n",
    "P = sympy.Matrix([[A, C],\n",
    "                  [C, D]]) #inv(I+Kw)"
   ]
  },
  {
   "cell_type": "code",
   "execution_count": 41,
   "metadata": {},
   "outputs": [],
   "source": [
    "Y=Z@X@Z"
   ]
  },
  {
   "cell_type": "code",
   "execution_count": 42,
   "metadata": {},
   "outputs": [],
   "source": [
    "for i in range(0,6):\n",
    "    for j in range(0,6):\n",
    "        if (Y[i,j]-(Z[i,:]@X@Z[:,j])[0]) != 0:\n",
    "            print(i,j)"
   ]
  },
  {
   "cell_type": "code",
   "execution_count": 43,
   "metadata": {},
   "outputs": [
    {
     "data": {
      "text/latex": [
       "$\\displaystyle \\left[\\begin{matrix}a p x + c n_{2} x + e m_{2} x & a p z_{1} + c n_{2} z_{1} + e m_{2} z_{1} & a n_{1} x + c q x + e l_{2} x & a n_{1} z_{1} + c q z_{1} + e l_{2} z_{1} & a m_{1} x + c l_{1} x + e r x & a m_{1} z_{1} + c l_{1} z_{1} + e r z_{1}\\\\b p z_{2} + d n_{2} z_{2} + f m_{2} z_{2} & b p y + d n_{2} y + f m_{2} y & b n_{1} z_{2} + d q z_{2} + f l_{2} z_{2} & b n_{1} y + d q y + f l_{2} y & b m_{1} z_{2} + d l_{1} z_{2} + f r z_{2} & b m_{1} y + d l_{1} y + f r y\\end{matrix}\\right]$"
      ],
      "text/plain": [
       "Matrix([\n",
       "[   a*p*x + c*n2*x + e*m2*x, a*p*z1 + c*n2*z1 + e*m2*z1,    a*n1*x + c*q*x + e*l2*x, a*n1*z1 + c*q*z1 + e*l2*z1,    a*m1*x + c*l1*x + e*r*x, a*m1*z1 + c*l1*z1 + e*r*z1],\n",
       "[b*p*z2 + d*n2*z2 + f*m2*z2,    b*p*y + d*n2*y + f*m2*y, b*n1*z2 + d*q*z2 + f*l2*z2,    b*n1*y + d*q*y + f*l2*y, b*m1*z2 + d*l1*z2 + f*r*z2,    b*m1*y + d*l1*y + f*r*y]])"
      ]
     },
     "execution_count": 43,
     "metadata": {},
     "output_type": "execute_result"
    }
   ],
   "source": [
    "tildeW@Z"
   ]
  },
  {
   "cell_type": "code",
   "execution_count": 49,
   "metadata": {},
   "outputs": [],
   "source": []
  },
  {
   "cell_type": "code",
   "execution_count": 60,
   "metadata": {},
   "outputs": [
    {
     "data": {
      "text/latex": [
       "$\\displaystyle \\left[\\begin{matrix}a p x + c n_{2} x + e m_{2} x & a p z_{1} + c n_{2} z_{1} + e m_{2} z_{1}\\\\b p z_{2} + d n_{2} z_{2} + f m_{2} z_{2} & b p y + d n_{2} y + f m_{2} y\\end{matrix}\\right]$"
      ],
      "text/plain": [
       "Matrix([\n",
       "[   a*p*x + c*n2*x + e*m2*x, a*p*z1 + c*n2*z1 + e*m2*z1],\n",
       "[b*p*z2 + d*n2*z2 + f*m2*z2,    b*p*y + d*n2*y + f*m2*y]])"
      ]
     },
     "execution_count": 60,
     "metadata": {},
     "output_type": "execute_result"
    }
   ],
   "source": [
    "Wele=TensorProduct(W[:,0],sympy.Matrix([[1,1]]))\n",
    "Q=(S[0,0]*T).multiply_elementwise(Wele)\n",
    "\n",
    "Wele=TensorProduct(W[:,1],sympy.Matrix([[1,1]]))\n",
    "Q=(S[1,0]*T).multiply_elementwise(Wele)+Q\n",
    "\n",
    "Wele=TensorProduct(W[:,2],sympy.Matrix([[1,1]]))\n",
    "Q=(S[2,0]*T).multiply_elementwise(Wele)+Q\n",
    "Q"
   ]
  },
  {
   "cell_type": "code",
   "execution_count": 61,
   "metadata": {},
   "outputs": [
    {
     "data": {
      "text/latex": [
       "$\\displaystyle \\left[\\begin{matrix}a n_{1} x + c q x + e l_{2} x & a n_{1} z_{1} + c q z_{1} + e l_{2} z_{1}\\\\b n_{1} z_{2} + d q z_{2} + f l_{2} z_{2} & b n_{1} y + d q y + f l_{2} y\\end{matrix}\\right]$"
      ],
      "text/plain": [
       "Matrix([\n",
       "[   a*n1*x + c*q*x + e*l2*x, a*n1*z1 + c*q*z1 + e*l2*z1],\n",
       "[b*n1*z2 + d*q*z2 + f*l2*z2,    b*n1*y + d*q*y + f*l2*y]])"
      ]
     },
     "execution_count": 61,
     "metadata": {},
     "output_type": "execute_result"
    }
   ],
   "source": [
    "Wele=TensorProduct(W[:,0],sympy.Matrix([[1,1]]))\n",
    "Q=(S[0,1]*T).multiply_elementwise(Wele)\n",
    "\n",
    "Wele=TensorProduct(W[:,1],sympy.Matrix([[1,1]]))\n",
    "Q=(S[1,1]*T).multiply_elementwise(Wele)+Q\n",
    "\n",
    "Wele=TensorProduct(W[:,2],sympy.Matrix([[1,1]]))\n",
    "Q=(S[2,1]*T).multiply_elementwise(Wele)+Q\n",
    "Q"
   ]
  },
  {
   "cell_type": "code",
   "execution_count": null,
   "metadata": {},
   "outputs": [],
   "source": []
  }
 ],
 "metadata": {
  "kernelspec": {
   "display_name": "Python 3",
   "language": "python",
   "name": "python3"
  },
  "language_info": {
   "codemirror_mode": {
    "name": "ipython",
    "version": 3
   },
   "file_extension": ".py",
   "mimetype": "text/x-python",
   "name": "python",
   "nbconvert_exporter": "python",
   "pygments_lexer": "ipython3",
   "version": "3.7.3"
  }
 },
 "nbformat": 4,
 "nbformat_minor": 2
}
