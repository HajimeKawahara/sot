{
 "cells": [
  {
   "cell_type": "code",
   "execution_count": 8,
   "metadata": {},
   "outputs": [],
   "source": [
    "import numpy as np"
   ]
  },
  {
   "cell_type": "markdown",
   "metadata": {},
   "source": [
    "# $\\det(X X^T)$"
   ]
  },
  {
   "cell_type": "code",
   "execution_count": 18,
   "metadata": {},
   "outputs": [],
   "source": [
    "Nk=3\n",
    "Nl=10\n",
    "X=np.random.rand(Nk*Nl).reshape(Nk,Nl)"
   ]
  },
  {
   "cell_type": "code",
   "execution_count": 19,
   "metadata": {},
   "outputs": [
    {
     "name": "stdout",
     "output_type": "stream",
     "text": [
      "3.055613130761651 3.0556131307616528\n",
      "3.055613130761651 3.0556131307616523\n",
      "3.055613130761651 3.0556131307616567\n"
     ]
    }
   ],
   "source": [
    "detXXT=np.linalg.det(np.dot(X,X.T))\n",
    "for k in range(0,Nk):\n",
    "    xk=X[k,:]                                                                                     \n",
    "    Xminus = np.delete(X,obj=k,axis=0)\n",
    "    XXTinverse=np.linalg.inv(np.dot(Xminus,Xminus.T))\n",
    "    K=np.eye(Nl) - np.dot(np.dot(Xminus.T,XXTinverse),Xminus)\n",
    "    detm=np.dot(np.dot(xk.T,K),xk)*np.linalg.det(np.dot(Xminus,Xminus.T))\n",
    "    \n",
    "    print(detXXT,detm)"
   ]
  },
  {
   "cell_type": "markdown",
   "metadata": {},
   "source": [
    "# $ \\frac{1}{2} || D - W A X ||_F^2 = \\frac{1}{2} {\\bf a}^T_k \\mathcal{W}_A {\\bf a}_k - {\\bf b}^T {\\bf a}_k + \\frac{1}{2} || \\Delta ||_F^2$"
   ]
  },
  {
   "cell_type": "markdown",
   "metadata": {},
   "source": [
    "# $ \\mathcal{W}_A \\equiv {\\bf x}_k^T {\\bf x}_k  W^T W  + \\lambda_A $"
   ]
  },
  {
   "cell_type": "markdown",
   "metadata": {},
   "source": [
    "# $ {\\bf b} \\equiv  W^T \\Delta {\\bf x}_k $"
   ]
  },
  {
   "cell_type": "code",
   "execution_count": 9,
   "metadata": {},
   "outputs": [],
   "source": [
    "Ni=5\n",
    "Nl=3\n",
    "Nj=7\n",
    "Nk=2\n",
    "D=np.random.rand(Ni*Nl).reshape(Ni,Nl)\n",
    "W=np.random.rand(Ni*Nj).reshape(Ni,Nj)\n",
    "A=np.random.rand(Nk*Nj).reshape(Nj,Nk)\n",
    "X=np.random.rand(Nk*Nl).reshape(Nk,Nl)"
   ]
  },
  {
   "cell_type": "code",
   "execution_count": 14,
   "metadata": {},
   "outputs": [],
   "source": [
    "val=0.5*np.sum((D-W@A@X)**2)"
   ]
  },
  {
   "cell_type": "code",
   "execution_count": 34,
   "metadata": {},
   "outputs": [
    {
     "name": "stdout",
     "output_type": "stream",
     "text": [
      "13.671455028272103 13.671455028272105\n",
      "13.671455028272103 13.671455028272106\n"
     ]
    }
   ],
   "source": [
    "for k in range(0,Nk):\n",
    "    AX=np.delete(A,obj=k,axis=1)@np.delete(X,obj=k,axis=0)\n",
    "    Delta=D-W@AX \n",
    "    xk=X[k,:]\n",
    "    W_a=(xk@xk)*(W.T@W)\n",
    "    b=(W.T@Delta@xk)\n",
    "    ak=A[:,k]\n",
    "    val1=0.5*ak@W_a@ak - b@ak + 0.5*np.sum((Delta)**2)\n",
    "    print(val,val1)"
   ]
  },
  {
   "cell_type": "code",
   "execution_count": 55,
   "metadata": {},
   "outputs": [
    {
     "name": "stdout",
     "output_type": "stream",
     "text": [
      "13.671455028272103 13.671455028272105\n",
      "13.671455028272103 13.671455028272106\n"
     ]
    }
   ],
   "source": [
    "for k in range(0,Nk):\n",
    "    AX=np.dot(np.delete(A,obj=k,axis=1),np.delete(X,obj=k,axis=0))\n",
    "    Delta=D-np.dot(W,AX) \n",
    "    xk=X[k,:]\n",
    "    ak=A[:,k]\n",
    "    W_a=(np.dot(xk,xk))*(np.dot(W.T,W))\n",
    "    b=np.dot(np.dot(W.T,Delta),xk)\n",
    "    val1=0.5*np.dot(np.dot(ak,W_a),ak) - np.dot(b,ak) + 0.5*np.sum((Delta)**2)\n",
    "    print(val,val1)"
   ]
  },
  {
   "cell_type": "markdown",
   "metadata": {},
   "source": [
    "#  $ \\frac{1}{2}  || D - W A X ||_F^2 =  \\frac{1}{2} {\\bf x}^T_k \\mathcal{W}_X {\\bf x}_k - {\\bf b}_X^T {\\bf x}_k + \\frac{1}{2} || \\Delta ||_F^2 $\n",
    "# $ \\mathcal{W}_X \\equiv ||W {\\bf a}_k||_2^2 \\, I $\n",
    "#  ${\\bf b}_X \\equiv \\Delta^T W {\\bf a}_k  $"
   ]
  },
  {
   "cell_type": "code",
   "execution_count": 51,
   "metadata": {},
   "outputs": [
    {
     "name": "stdout",
     "output_type": "stream",
     "text": [
      "13.671455028272103 13.671455028272105\n",
      "13.671455028272103 13.671455028272106\n"
     ]
    }
   ],
   "source": [
    "for k in range(0,Nk):\n",
    "    AX=np.delete(A,obj=k,axis=1)@np.delete(X,obj=k,axis=0)\n",
    "    Delta=D-W@AX \n",
    "    xk=X[k,:]\n",
    "    ak=A[:,k]\n",
    "    Wa=(W@ak)\n",
    "    W_x=(Wa@Wa)*np.eye(Nl)\n",
    "    bx=(Delta.T@W@ak)\n",
    "    \n",
    "    val1=0.5*xk@W_x@xk - bx@xk + 0.5*np.sum((Delta)**2)\n",
    "    print(val,val1)"
   ]
  },
  {
   "cell_type": "code",
   "execution_count": 58,
   "metadata": {},
   "outputs": [
    {
     "name": "stdout",
     "output_type": "stream",
     "text": [
      "13.671455028272103 13.671455028272105\n",
      "13.671455028272103 13.671455028272106\n"
     ]
    }
   ],
   "source": [
    "for k in range(0,Nk):\n",
    "    AX=np.dot(np.delete(A,obj=k,axis=1),np.delete(X,obj=k,axis=0))\n",
    "    Delta=D-np.dot(W,AX) \n",
    "    xk=X[k,:]\n",
    "    ak=A[:,k]\n",
    "    Wa=np.dot(W,ak)\n",
    "    W_x=np.dot(Wa,Wa)*np.eye(Nl)\n",
    "    bx=np.dot(np.dot(Delta.T,W),ak)\n",
    "    val1=0.5*np.dot(np.dot(xk,W_x),xk) - np.dot(bx,xk) + 0.5*np.sum((Delta)**2)\n",
    "    print(val,val1)"
   ]
  },
  {
   "cell_type": "code",
   "execution_count": null,
   "metadata": {},
   "outputs": [],
   "source": []
  }
 ],
 "metadata": {
  "kernelspec": {
   "display_name": "Python 3",
   "language": "python",
   "name": "python3"
  },
  "language_info": {
   "codemirror_mode": {
    "name": "ipython",
    "version": 3
   },
   "file_extension": ".py",
   "mimetype": "text/x-python",
   "name": "python",
   "nbconvert_exporter": "python",
   "pygments_lexer": "ipython3",
   "version": "3.7.3"
  }
 },
 "nbformat": 4,
 "nbformat_minor": 2
}
