{
 "cells": [
  {
   "cell_type": "code",
   "execution_count": 2,
   "metadata": {},
   "outputs": [],
   "source": [
    "from sympy import *\n",
    "init_printing(use_unicode=True)"
   ]
  },
  {
   "cell_type": "code",
   "execution_count": 4,
   "metadata": {},
   "outputs": [],
   "source": [
    "a,b,c,d,X = symbols('a b c d X')"
   ]
  },
  {
   "cell_type": "code",
   "execution_count": 5,
   "metadata": {},
   "outputs": [],
   "source": [
    "X=Matrix([[a,b],[c,d]])"
   ]
  },
  {
   "cell_type": "code",
   "execution_count": 7,
   "metadata": {},
   "outputs": [
    {
     "data": {
      "text/latex": [
       "$\\displaystyle \\left[\\begin{matrix}\\frac{d}{a d - b c} & - \\frac{b}{a d - b c}\\\\- \\frac{c}{a d - b c} & \\frac{a}{a d - b c}\\end{matrix}\\right]$"
      ],
      "text/plain": [
       "⎡    d         -b    ⎤\n",
       "⎢─────────  ─────────⎥\n",
       "⎢a⋅d - b⋅c  a⋅d - b⋅c⎥\n",
       "⎢                    ⎥\n",
       "⎢   -c          a    ⎥\n",
       "⎢─────────  ─────────⎥\n",
       "⎣a⋅d - b⋅c  a⋅d - b⋅c⎦"
      ]
     },
     "execution_count": 7,
     "metadata": {},
     "output_type": "execute_result"
    }
   ],
   "source": [
    "X**-1"
   ]
  },
  {
   "cell_type": "code",
   "execution_count": 8,
   "metadata": {},
   "outputs": [
    {
     "data": {
      "text/latex": [
       "$\\displaystyle \\left[\\begin{matrix}a & c\\\\b & d\\end{matrix}\\right]$"
      ],
      "text/plain": [
       "⎡a  c⎤\n",
       "⎢    ⎥\n",
       "⎣b  d⎦"
      ]
     },
     "execution_count": 8,
     "metadata": {},
     "output_type": "execute_result"
    }
   ],
   "source": [
    "X.T"
   ]
  },
  {
   "cell_type": "code",
   "execution_count": 9,
   "metadata": {},
   "outputs": [
    {
     "data": {
      "text/latex": [
       "$\\displaystyle \\left[\\begin{matrix}a^{2} + b^{2} & a c + b d\\\\a c + b d & c^{2} + d^{2}\\end{matrix}\\right]$"
      ],
      "text/plain": [
       "⎡  2    2            ⎤\n",
       "⎢ a  + b    a⋅c + b⋅d⎥\n",
       "⎢                    ⎥\n",
       "⎢             2    2 ⎥\n",
       "⎣a⋅c + b⋅d   c  + d  ⎦"
      ]
     },
     "execution_count": 9,
     "metadata": {},
     "output_type": "execute_result"
    }
   ],
   "source": [
    "X*X.T"
   ]
  },
  {
   "cell_type": "code",
   "execution_count": 10,
   "metadata": {},
   "outputs": [
    {
     "data": {
      "text/latex": [
       "$\\displaystyle \\left[\\begin{matrix}a^{2} + c^{2} & a b + c d\\\\a b + c d & b^{2} + d^{2}\\end{matrix}\\right]$"
      ],
      "text/plain": [
       "⎡  2    2            ⎤\n",
       "⎢ a  + c    a⋅b + c⋅d⎥\n",
       "⎢                    ⎥\n",
       "⎢             2    2 ⎥\n",
       "⎣a⋅b + c⋅d   b  + d  ⎦"
      ]
     },
     "execution_count": 10,
     "metadata": {},
     "output_type": "execute_result"
    }
   ],
   "source": [
    "X.T*X"
   ]
  },
  {
   "cell_type": "code",
   "execution_count": 28,
   "metadata": {},
   "outputs": [
    {
     "data": {
      "text/latex": [
       "$\\displaystyle \\left[\\begin{matrix}2 d \\left(a d - b c\\right) & 2 c \\left(- a d + b c\\right)\\\\2 b \\left(- a d + b c\\right) & 2 a \\left(a d - b c\\right)\\end{matrix}\\right]$"
      ],
      "text/plain": [
       "⎡2⋅d⋅(a⋅d - b⋅c)   2⋅c⋅(-a⋅d + b⋅c)⎤\n",
       "⎢                                  ⎥\n",
       "⎣2⋅b⋅(-a⋅d + b⋅c)  2⋅a⋅(a⋅d - b⋅c) ⎦"
      ]
     },
     "execution_count": 28,
     "metadata": {},
     "output_type": "execute_result"
    }
   ],
   "source": [
    "simplify(Matrix([[diff(det(X*X.T),a),diff(det(X*X.T),b)],[diff(det(X*X.T),c),diff(det(X*X.T),d)]]))"
   ]
  },
  {
   "cell_type": "code",
   "execution_count": 27,
   "metadata": {},
   "outputs": [
    {
     "data": {
      "text/latex": [
       "$\\displaystyle \\left[\\begin{matrix}2 d \\left(a d - b c\\right) & 2 c \\left(- a d + b c\\right)\\\\2 b \\left(- a d + b c\\right) & 2 a \\left(a d - b c\\right)\\end{matrix}\\right]$"
      ],
      "text/plain": [
       "⎡2⋅d⋅(a⋅d - b⋅c)   2⋅c⋅(-a⋅d + b⋅c)⎤\n",
       "⎢                                  ⎥\n",
       "⎣2⋅b⋅(-a⋅d + b⋅c)  2⋅a⋅(a⋅d - b⋅c) ⎦"
      ]
     },
     "execution_count": 27,
     "metadata": {},
     "output_type": "execute_result"
    }
   ],
   "source": [
    "simplify(2*det(X*X.T)*((X*X.T)**-1)*X)"
   ]
  },
  {
   "cell_type": "code",
   "execution_count": 24,
   "metadata": {},
   "outputs": [
    {
     "data": {
      "text/latex": [
       "$\\displaystyle \\left[\\begin{matrix}2 a & 2 b\\\\2 c & 2 d\\end{matrix}\\right]$"
      ],
      "text/plain": [
       "⎡2⋅a  2⋅b⎤\n",
       "⎢        ⎥\n",
       "⎣2⋅c  2⋅d⎦"
      ]
     },
     "execution_count": 24,
     "metadata": {},
     "output_type": "execute_result"
    }
   ],
   "source": [
    "2*X"
   ]
  },
  {
   "cell_type": "code",
   "execution_count": null,
   "metadata": {},
   "outputs": [],
   "source": []
  }
 ],
 "metadata": {
  "kernelspec": {
   "display_name": "Python 3",
   "language": "python",
   "name": "python3"
  },
  "language_info": {
   "codemirror_mode": {
    "name": "ipython",
    "version": 3
   },
   "file_extension": ".py",
   "mimetype": "text/x-python",
   "name": "python",
   "nbconvert_exporter": "python",
   "pygments_lexer": "ipython3",
   "version": "3.7.3"
  }
 },
 "nbformat": 4,
 "nbformat_minor": 2
}
