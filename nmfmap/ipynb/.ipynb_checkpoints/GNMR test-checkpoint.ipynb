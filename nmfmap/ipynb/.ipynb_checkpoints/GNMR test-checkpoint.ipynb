{
 "cells": [
  {
   "cell_type": "code",
   "execution_count": 1,
   "metadata": {},
   "outputs": [],
   "source": [
    "import numpy as np\n",
    "from sklearn.decomposition import NMF"
   ]
  },
  {
   "cell_type": "code",
   "execution_count": 3,
   "metadata": {},
   "outputs": [],
   "source": [
    "G=np.random.rand(10,4)\n",
    "Ain=np.random.rand(4,5)\n",
    "Xin=np.random.rand(5,3)"
   ]
  },
  {
   "cell_type": "code",
   "execution_count": 4,
   "metadata": {},
   "outputs": [],
   "source": [
    "Y = np.dot(np.dot(G,Ain),Xin)"
   ]
  },
  {
   "cell_type": "code",
   "execution_count": 5,
   "metadata": {},
   "outputs": [
    {
     "data": {
      "text/plain": [
       "array([[1.2900618 , 0.80641693, 1.25103162],\n",
       "       [2.68625403, 1.67328168, 2.56108283],\n",
       "       [2.7227457 , 1.62361793, 2.6152041 ],\n",
       "       [2.91622057, 1.7911105 , 2.79634405],\n",
       "       [1.85401461, 1.20636896, 1.76295215],\n",
       "       [3.5310499 , 2.18913721, 3.400148  ],\n",
       "       [2.86685098, 1.73983785, 2.76158843],\n",
       "       [1.85274458, 1.11849606, 1.7623931 ],\n",
       "       [3.04779497, 1.86549091, 2.93267033],\n",
       "       [2.15275309, 1.37422523, 2.04405026]])"
      ]
     },
     "execution_count": 5,
     "metadata": {},
     "output_type": "execute_result"
    }
   ],
   "source": [
    "Y"
   ]
  },
  {
   "cell_type": "code",
   "execution_count": 7,
   "metadata": {},
   "outputs": [],
   "source": [
    "A0=np.random.rand(np.shape(Ain)[0],np.shape(Ain)[1])\n",
    "X0=np.random.rand(np.shape(Xin)[0],np.shape(Xin)[1])"
   ]
  },
  {
   "cell_type": "code",
   "execution_count": 11,
   "metadata": {},
   "outputs": [],
   "source": [
    "A=np.copy(A0)\n",
    "X=np.copy(X0)\n",
    "epsilon=1.e-6\n",
    "for i in range(0,10000):\n",
    "    Wt = np.dot(np.dot(G.T,Y),X.T)\n",
    "    Wb = np.dot(np.dot(np.dot(np.dot(G.T,G),A),X),X.T)+ epsilon\n",
    "    #print(np.shape(Wt/Wb),np.shape(A))\n",
    "    A = A*(Wt/Wb)\n",
    "\n",
    "    Wt = np.dot(np.dot(A.T,G.T),Y)\n",
    "    Wb = np.dot(np.dot(np.dot(np.dot(A.T,G.T),G),A),X)+ epsilon \n",
    "    X = X*(Wt/Wb)"
   ]
  },
  {
   "cell_type": "code",
   "execution_count": 12,
   "metadata": {},
   "outputs": [
    {
     "data": {
      "text/plain": [
       "array([[ 4.81200273e-07,  4.78047906e-07,  8.24195130e-08],\n",
       "       [-2.26067199e-07,  3.21275103e-07, -4.72220765e-08],\n",
       "       [ 4.74141431e-07,  1.16192198e-07,  9.20001826e-08],\n",
       "       [ 1.72823889e-08, -1.16007645e-07,  1.44986898e-07],\n",
       "       [-3.76006439e-07,  5.52573454e-07, -9.58183177e-08],\n",
       "       [ 1.37482989e-07, -3.14946951e-07,  3.35077141e-07],\n",
       "       [ 6.39965420e-07,  4.01491730e-07,  1.27412673e-07],\n",
       "       [-3.46798532e-08,  2.60979622e-07, -9.69505627e-08],\n",
       "       [ 2.19220232e-07, -2.31929078e-07,  2.47698458e-07],\n",
       "       [-4.99842709e-07,  3.40671729e-07, -9.57705639e-08]])"
      ]
     },
     "execution_count": 12,
     "metadata": {},
     "output_type": "execute_result"
    }
   ],
   "source": [
    "Y - np.dot(np.dot(G,A),X)"
   ]
  },
  {
   "cell_type": "code",
   "execution_count": null,
   "metadata": {},
   "outputs": [],
   "source": []
  }
 ],
 "metadata": {
  "kernelspec": {
   "display_name": "Python 3",
   "language": "python",
   "name": "python3"
  },
  "language_info": {
   "codemirror_mode": {
    "name": "ipython",
    "version": 3
   },
   "file_extension": ".py",
   "mimetype": "text/x-python",
   "name": "python",
   "nbconvert_exporter": "python",
   "pygments_lexer": "ipython3",
   "version": "3.7.3"
  }
 },
 "nbformat": 4,
 "nbformat_minor": 2
}
