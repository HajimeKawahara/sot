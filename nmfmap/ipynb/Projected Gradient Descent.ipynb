{
 "cells": [
  {
   "cell_type": "code",
   "execution_count": 1,
   "metadata": {},
   "outputs": [],
   "source": [
    "import numpy as np\n",
    "import matplotlib.pyplot as plt\n",
    "np.random.seed(34)"
   ]
  },
  {
   "cell_type": "markdown",
   "metadata": {},
   "source": [
    "# PG"
   ]
  },
  {
   "cell_type": "code",
   "execution_count": 2,
   "metadata": {},
   "outputs": [],
   "source": [
    "def PG(Q,p,x0,Ntry=1000):\n",
    "    n=np.shape(Q)[0]\n",
    "    normQ = np.sqrt(np.sum(Q**2))\n",
    "    Theta1 = np.eye(n) - Q/normQ\n",
    "    theta2 = p/normQ\n",
    "    x = np.copy(x0)\n",
    "    x[x<0]=0.0\n",
    "    for i in range(0,Ntry):\n",
    "        x = np.dot(Theta1,x) + theta2\n",
    "        x[x<0] = 0.0\n",
    "    return x"
   ]
  },
  {
   "cell_type": "code",
   "execution_count": 3,
   "metadata": {},
   "outputs": [],
   "source": [
    "def PGlog(Q,p,x0,A,b,Ntry=1000):\n",
    "    n=np.shape(Q)[0]\n",
    "    normQ = np.sqrt(np.sum(Q**2))\n",
    "    Theta1 = np.eye(n) - Q/normQ\n",
    "    theta2 = p/normQ\n",
    "    x = np.copy(x0)\n",
    "    x[x<0]=0.0\n",
    "    res=[]\n",
    "    for i in range(0,Ntry):\n",
    "        x = np.dot(Theta1,x) + theta2\n",
    "        x[x<0] = 0.0\n",
    "        res.append(np.sum((np.dot(A,x) - b)**2))\n",
    "    return x,np.array(res)"
   ]
  },
  {
   "cell_type": "code",
   "execution_count": 4,
   "metadata": {},
   "outputs": [],
   "source": [
    "Nj=100\n",
    "Nk=50\n",
    "A=np.random.rand(Nk*Nj).reshape(Nk,Nj)\n",
    "xini=np.random.rand(Nj)\n",
    "b=np.dot(A,xini)\n",
    "p=np.dot(A.T,b)\n",
    "Q=np.dot(A.T,A)\n",
    "x0=np.random.rand(Nj)"
   ]
  },
  {
   "cell_type": "code",
   "execution_count": 5,
   "metadata": {},
   "outputs": [],
   "source": [
    "x1=PG(Q,p,x0,1000)"
   ]
  },
  {
   "cell_type": "markdown",
   "metadata": {},
   "source": [
    "## Note: x1 does not converge to xini"
   ]
  },
  {
   "cell_type": "code",
   "execution_count": 6,
   "metadata": {},
   "outputs": [
    {
     "data": {
      "text/plain": [
       "0.16979316896500379"
      ]
     },
     "execution_count": 6,
     "metadata": {},
     "output_type": "execute_result"
    }
   ],
   "source": [
    "np.sum((np.dot(A,x1) - b)**2)"
   ]
  },
  {
   "cell_type": "code",
   "execution_count": 7,
   "metadata": {},
   "outputs": [],
   "source": [
    "x1log,resPG=PGlog(Q,p,x0,A,b,1000)"
   ]
  },
  {
   "cell_type": "code",
   "execution_count": 10,
   "metadata": {},
   "outputs": [
    {
     "data": {
      "image/png": "[encoded data removed]",
      "text/plain": [
       "<matplotlib.figure.Figure at 0x7ff5492b6ef0>"
      ]
     },
     "metadata": {},
     "output_type": "display_data"
    }
   ],
   "source": [
    "plt.figure()\n",
    "plt.plot(resPG)\n",
    "plt.yscale(\"log\")\n",
    "plt.show()"
   ]
  },
  {
   "cell_type": "markdown",
   "metadata": {},
   "source": [
    "# APG "
   ]
  },
  {
   "cell_type": "code",
   "execution_count": 11,
   "metadata": {},
   "outputs": [],
   "source": [
    "def APG(Q,p,x0,Ntry=1000):\n",
    "    n=np.shape(Q)[0]\n",
    "    normQ = np.sqrt(np.sum(Q**2))\n",
    "    Theta1 = np.eye(n) - Q/normQ\n",
    "    theta2 = p/normQ\n",
    "    x = np.copy(x0)\n",
    "    y = np.copy(x0)\n",
    "    x[x<0]=0.0\n",
    "    alpha=1\n",
    "    for i in range(0,Ntry):\n",
    "        xp=np.copy(x)\n",
    "        x = np.dot(Theta1,y) + theta2\n",
    "        x[x<0] = 0.0\n",
    "        dx=x-xp\n",
    "        aa=alpha*alpha\n",
    "        beta=alpha*(1.0-alpha)\n",
    "        alpha=0.5*(np.sqrt(aa*aa + 4*aa) - aa)\n",
    "        beta=beta/(alpha + aa)\n",
    "        y=x+beta*dx\n",
    "    return x"
   ]
  },
  {
   "cell_type": "code",
   "execution_count": 12,
   "metadata": {},
   "outputs": [],
   "source": [
    "x2=APG(Q,p,x0,1000)"
   ]
  },
  {
   "cell_type": "code",
   "execution_count": 13,
   "metadata": {},
   "outputs": [
    {
     "data": {
      "text/plain": [
       "2.3806495228636909e-05"
      ]
     },
     "execution_count": 13,
     "metadata": {},
     "output_type": "execute_result"
    }
   ],
   "source": [
    "np.sum((np.dot(A,x2)-b)**2)"
   ]
  },
  {
   "cell_type": "code",
   "execution_count": 14,
   "metadata": {},
   "outputs": [],
   "source": [
    "def APGlog(Q,p,x0,A,b,Ntry=1000):\n",
    "    n=np.shape(Q)[0]\n",
    "    normQ = np.sqrt(np.sum(Q**2))\n",
    "    Theta1 = np.eye(n) - Q/normQ\n",
    "    theta2 = p/normQ\n",
    "    x = np.copy(x0)\n",
    "    y = np.copy(x0)\n",
    "    x[x<0]=0.0\n",
    "    alpha=1\n",
    "    res=[]\n",
    "    for i in range(0,Ntry):\n",
    "        xp=np.copy(x)\n",
    "        x = np.dot(Theta1,y) + theta2\n",
    "        x[x<0] = 0.0\n",
    "        dx=x-xp\n",
    "        aa=alpha*alpha\n",
    "        beta=alpha*(1.0-alpha)\n",
    "        alpha=0.5*(np.sqrt(aa*aa + 4*aa) - aa)\n",
    "        beta=beta/(alpha + aa)\n",
    "        y=x+beta*dx\n",
    "        res.append(np.sum((np.dot(A,x) - b)**2))\n",
    "    return x,np.array(res)"
   ]
  },
  {
   "cell_type": "code",
   "execution_count": 15,
   "metadata": {},
   "outputs": [],
   "source": [
    "x2log,resAPG=APGlog(Q,p,x0,A,b,1000)"
   ]
  },
  {
   "cell_type": "code",
   "execution_count": 18,
   "metadata": {},
   "outputs": [
    {
     "data": {
      "image/png": "[encoded data removed]",
      "text/plain": [
       "<matplotlib.figure.Figure at 0x7ff54932b048>"
      ]
     },
     "metadata": {},
     "output_type": "display_data"
    }
   ],
   "source": [
    "plt.figure()\n",
    "plt.plot(resPG)\n",
    "plt.plot(resAPG)\n",
    "plt.yscale(\"log\")\n",
    "plt.show()"
   ]
  },
  {
   "cell_type": "markdown",
   "metadata": {},
   "source": [
    "# APG+restart"
   ]
  },
  {
   "cell_type": "code",
   "execution_count": 28,
   "metadata": {},
   "outputs": [],
   "source": [
    "def APGr(Q,p,x0,Ntry=1000,alpha0=1.0):\n",
    "    n=np.shape(Q)[0]\n",
    "    normQ = np.sqrt(np.sum(Q**2))\n",
    "    Theta1 = np.eye(n) - Q/normQ\n",
    "    theta2 = p/normQ\n",
    "    x = np.copy(x0)\n",
    "    y = np.copy(x0)\n",
    "    x[x<0]=0.0\n",
    "    alpha=alpha0\n",
    "    costp=0.5*np.dot(x0,np.dot(Q,x0)) - np.dot(p,x0)\n",
    "    for i in range(0,Ntry):\n",
    "        xp=np.copy(x)\n",
    "        x = np.dot(Theta1,y) + theta2\n",
    "        x[x<0] = 0.0\n",
    "        dx=x-xp\n",
    "        aa=alpha*alpha\n",
    "        beta=alpha*(1.0-alpha)\n",
    "        alpha=0.5*(np.sqrt(aa*aa + 4*aa) - aa)\n",
    "        beta=beta/(alpha + aa)\n",
    "        y=x+beta*dx\n",
    "        cost=0.5*np.dot(x,np.dot(Q,x)) - np.dot(p,x)\n",
    "        if cost > costp:\n",
    "            x = np.dot(Theta1,xp) + theta2\n",
    "            x[x<0] = 0.0\n",
    "            y = np.copy(x)\n",
    "            alpha=alpha0\n",
    "        costp=np.copy(cost)\n",
    "    return x"
   ]
  },
  {
   "cell_type": "code",
   "execution_count": 29,
   "metadata": {},
   "outputs": [],
   "source": [
    "x3=APGr(Q,p,x0,1000)"
   ]
  },
  {
   "cell_type": "code",
   "execution_count": 30,
   "metadata": {},
   "outputs": [],
   "source": [
    "def APGrlog(Q,p,x0,A,b,Ntry=1000,alpha0=1.0):\n",
    "    n=np.shape(Q)[0]\n",
    "    normQ = np.sqrt(np.sum(Q**2))\n",
    "    Theta1 = np.eye(n) - Q/normQ\n",
    "    theta2 = p/normQ\n",
    "    x = np.copy(x0)\n",
    "    y = np.copy(x0)\n",
    "    x[x<0]=0.0\n",
    "    alpha=alpha0\n",
    "    costp=0.5*np.dot(x0,np.dot(Q,x0)) - np.dot(p,x0)\n",
    "    res=[]\n",
    "    for i in range(0,Ntry):\n",
    "        xp=np.copy(x)\n",
    "        x = np.dot(Theta1,y) + theta2\n",
    "        x[x<0] = 0.0\n",
    "        dx=x-xp\n",
    "        aa=alpha*alpha\n",
    "        beta=alpha*(1.0-alpha)\n",
    "        alpha=0.5*(np.sqrt(aa*aa + 4*aa) - aa)\n",
    "        beta=beta/(alpha + aa)\n",
    "        y=x+beta*dx\n",
    "        cost=0.5*np.dot(x,np.dot(Q,x)) - np.dot(p,x)\n",
    "        if cost > costp:\n",
    "            x = np.dot(Theta1,xp) + theta2\n",
    "            x[x<0] = 0.0\n",
    "            y = np.copy(x)\n",
    "            alpha=alpha0\n",
    "        costp=np.copy(cost)\n",
    "        res.append(np.sum((np.dot(A,x) - b)**2))\n",
    "    return x,np.array(res)"
   ]
  },
  {
   "cell_type": "code",
   "execution_count": 31,
   "metadata": {},
   "outputs": [],
   "source": [
    "x3log,resAPGr=APGrlog(Q,p,x0,A,b,1000,1.0)"
   ]
  },
  {
   "cell_type": "code",
   "execution_count": 33,
   "metadata": {},
   "outputs": [
    {
     "data": {
      "image/png": "[encoded data removed]",
      "text/plain": [
       "<matplotlib.figure.Figure at 0x7ff548f7a278>"
      ]
     },
     "metadata": {},
     "output_type": "display_data"
    }
   ],
   "source": [
    "fs=14\n",
    "plt.figure()\n",
    "plt.plot(resPG,color=\"C2\",ls=\"dotted\",label=\"PG\")\n",
    "plt.plot(resAPG,color=\"C1\",ls=\"dashed\",label=\"APG\")\n",
    "plt.plot(resAPGr,color=\"C3\",ls=\"solid\",label=\"APG + restart\")\n",
    "plt.legend(fontsize=11)\n",
    "plt.yscale(\"log\")\n",
    "plt.ylabel(\"residual\",fontsize=fs)\n",
    "plt.xlabel(\"# of iteration\",fontsize=fs)\n",
    "plt.tick_params(labelsize=fs)\n",
    "plt.savefig(\"NNLS.pdf\")\n",
    "plt.show()"
   ]
  },
  {
   "cell_type": "code",
   "execution_count": null,
   "metadata": {},
   "outputs": [],
   "source": []
  }
 ],
 "metadata": {
  "kernelspec": {
   "display_name": "Python 3",
   "language": "python",
   "name": "python3"
  },
  "language_info": {
   "codemirror_mode": {
    "name": "ipython",
    "version": 3
   },
   "file_extension": ".py",
   "mimetype": "text/x-python",
   "name": "python",
   "nbconvert_exporter": "python",
   "pygments_lexer": "ipython3",
   "version": "3.7.3"
  }
 },
 "nbformat": 4,
 "nbformat_minor": 2
}
