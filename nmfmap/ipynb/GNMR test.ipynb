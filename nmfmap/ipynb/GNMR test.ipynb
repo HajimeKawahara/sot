{
 "cells": [
  {
   "cell_type": "code",
   "execution_count": 1,
   "metadata": {},
   "outputs": [],
   "source": [
    "import numpy as np\n",
    "from sklearn.decomposition import NMF"
   ]
  },
  {
   "cell_type": "code",
   "execution_count": 2,
   "metadata": {},
   "outputs": [],
   "source": [
    "G=np.random.rand(10,4)\n",
    "Ain=np.random.rand(4,5)\n",
    "Xin=np.random.rand(5,3)"
   ]
  },
  {
   "cell_type": "code",
   "execution_count": 3,
   "metadata": {},
   "outputs": [],
   "source": [
    "Y = np.dot(np.dot(G,Ain),Xin)"
   ]
  },
  {
   "cell_type": "code",
   "execution_count": 4,
   "metadata": {},
   "outputs": [
    {
     "data": {
      "text/plain": [
       "array([[2.65028293, 2.2709868 , 2.08918384],\n",
       "       [2.59959977, 2.19068011, 1.98358792],\n",
       "       [1.13842414, 0.97016969, 0.83569964],\n",
       "       [2.22936923, 1.93887651, 1.54278277],\n",
       "       [2.34044093, 2.04715027, 1.69742786],\n",
       "       [2.19024789, 1.85037205, 1.66646714],\n",
       "       [2.5740309 , 2.22329698, 1.91510317],\n",
       "       [2.62928563, 2.2336218 , 1.97593977],\n",
       "       [2.95043972, 2.5228722 , 2.33870705],\n",
       "       [3.16466696, 2.69121121, 2.45315968]])"
      ]
     },
     "execution_count": 4,
     "metadata": {},
     "output_type": "execute_result"
    }
   ],
   "source": [
    "Y"
   ]
  },
  {
   "cell_type": "code",
   "execution_count": 5,
   "metadata": {},
   "outputs": [],
   "source": [
    "A0=np.random.rand(np.shape(Ain)[0],np.shape(Ain)[1])\n",
    "X0=np.random.rand(np.shape(Xin)[0],np.shape(Xin)[1])"
   ]
  },
  {
   "cell_type": "code",
   "execution_count": 6,
   "metadata": {},
   "outputs": [],
   "source": [
    "A=np.copy(A0)\n",
    "X=np.copy(X0)\n",
    "epsilon=1.e-6\n",
    "for i in range(0,10000):\n",
    "    Wt = np.dot(np.dot(G.T,Y),X.T)\n",
    "    Wb = np.dot(np.dot(np.dot(np.dot(G.T,G),A),X),X.T)+ epsilon\n",
    "    #print(np.shape(Wt/Wb),np.shape(A))\n",
    "    A = A*(Wt/Wb)\n",
    "\n",
    "    Wt = np.dot(np.dot(A.T,G.T),Y)\n",
    "    Wb = np.dot(np.dot(np.dot(np.dot(A.T,G.T),G),A),X)+ epsilon \n",
    "    X = X*(Wt/Wb)"
   ]
  },
  {
   "cell_type": "code",
   "execution_count": 7,
   "metadata": {},
   "outputs": [
    {
     "data": {
      "text/plain": [
       "array([[ 1.05263949e-07,  1.87570424e-07,  2.15475925e-07],\n",
       "       [ 2.36665773e-07, -3.41998671e-07,  6.90259905e-07],\n",
       "       [ 2.62585069e-08, -1.32345438e-07,  3.16481496e-07],\n",
       "       [-1.38772756e-07,  1.09250612e-07,  7.97921933e-08],\n",
       "       [-1.42701593e-07,  4.42559640e-07, -2.62369497e-07],\n",
       "       [ 1.98255195e-07, -1.69913247e-07,  3.74367683e-07],\n",
       "       [ 2.87429804e-08,  3.82891298e-07, -3.00356454e-07],\n",
       "       [ 2.32220840e-07,  9.88025897e-08, -1.08842481e-07],\n",
       "       [ 1.69169322e-07,  2.47523771e-07,  1.22301441e-07],\n",
       "       [ 2.42341139e-07,  7.46926418e-08,  2.01225473e-07]])"
      ]
     },
     "execution_count": 7,
     "metadata": {},
     "output_type": "execute_result"
    }
   ],
   "source": [
    "Y - np.dot(np.dot(G,A),X)"
   ]
  },
  {
   "cell_type": "code",
   "execution_count": null,
   "metadata": {},
   "outputs": [],
   "source": [
    "# Tikhonov regularization"
   ]
  },
  {
   "cell_type": "code",
   "execution_count": 17,
   "metadata": {},
   "outputs": [
    {
     "name": "stdout",
     "output_type": "stream",
     "text": [
      "14.587111745534255 7.87245146890093\n",
      "0.007199836918547502 1.5428439608743596e-06\n",
      "0.003669316530221236 3.798820102843734e-07\n",
      "0.0025022224521254535 1.7369752869387299e-07\n",
      "0.0019254484194585664 1.0251217758589199e-07\n",
      "0.0015842445845877593 6.971849466077973e-08\n",
      "0.001360445584626365 5.1928393309435776e-08\n",
      "0.001203469032997881 4.120556934871692e-08\n",
      "0.0010880603388300947 3.4251339192916736e-08\n",
      "0.001000211623362037 2.9493151227736008e-08\n"
     ]
    }
   ],
   "source": [
    "A=np.copy(A0)\n",
    "X=np.copy(X0)\n",
    "epsilon=1.e-6\n",
    "lamb=1.e0\n",
    "for i in range(0,100000):\n",
    "    Wt = np.dot(np.dot(G.T,Y),X.T)\n",
    "    Wb = np.dot(np.dot(np.dot(np.dot(G.T,G),A),X),X.T )+ lamb*A + epsilon\n",
    "    if np.mod(i,10000)==0: print( np.sum( (Y - np.dot(np.dot(G,A),X))*(Y - np.dot(np.dot(G,A),X)) ) + lamb* np.sum(A*A ),\\\n",
    "                                np.sum( (Y - np.dot(np.dot(G,A),X))*(Y - np.dot(np.dot(G,A),X)) ) )\n",
    "    #print(np.shape(Wt/Wb),np.shape(A))\n",
    "    A = A*(Wt/Wb)\n",
    "\n",
    "    Wt = np.dot(np.dot(A.T,G.T),Y)\n",
    "    Wb = np.dot(np.dot(np.dot(np.dot(A.T,G.T),G),A),X)+ epsilon \n",
    "    X = X*(Wt/Wb)"
   ]
  },
  {
   "cell_type": "code",
   "execution_count": null,
   "metadata": {},
   "outputs": [],
   "source": []
  }
 ],
 "metadata": {
  "kernelspec": {
   "display_name": "Python 3",
   "language": "python",
   "name": "python3"
  },
  "language_info": {
   "codemirror_mode": {
    "name": "ipython",
    "version": 3
   },
   "file_extension": ".py",
   "mimetype": "text/x-python",
   "name": "python",
   "nbconvert_exporter": "python",
   "pygments_lexer": "ipython3",
   "version": "3.7.3"
  }
 },
 "nbformat": 4,
 "nbformat_minor": 2
}
