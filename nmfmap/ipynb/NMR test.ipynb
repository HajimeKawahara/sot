{
 "cells": [
  {
   "cell_type": "code",
   "execution_count": 78,
   "metadata": {},
   "outputs": [],
   "source": [
    "import numpy as np\n",
    "from sklearn.decomposition import NMF\n",
    "import scipy"
   ]
  },
  {
   "cell_type": "code",
   "execution_count": 29,
   "metadata": {},
   "outputs": [],
   "source": [
    "Ain = np.array([[1, 1], [2, 1], [3, 1.2], [4, 1], [5, 0.8], [6, 1]])\n",
    "Xin=np.array([[3,4,5],[2,7.2,3]])"
   ]
  },
  {
   "cell_type": "code",
   "execution_count": 30,
   "metadata": {},
   "outputs": [],
   "source": [
    "Y=np.dot(Ain,Xin)"
   ]
  },
  {
   "cell_type": "markdown",
   "metadata": {},
   "source": [
    "# scikit learn NMR"
   ]
  },
  {
   "cell_type": "code",
   "execution_count": 37,
   "metadata": {},
   "outputs": [],
   "source": [
    "model = NMF(n_components=2, init='random', random_state=0)\n",
    "A = model.fit_transform(Y)\n",
    "X = model.components_"
   ]
  },
  {
   "cell_type": "code",
   "execution_count": 38,
   "metadata": {},
   "outputs": [
    {
     "data": {
      "text/plain": [
       "((6, 3), (6, 2), (2, 3))"
      ]
     },
     "execution_count": 38,
     "metadata": {},
     "output_type": "execute_result"
    }
   ],
   "source": [
    "np.shape(Y),np.shape(A),np.shape(X)"
   ]
  },
  {
   "cell_type": "code",
   "execution_count": 39,
   "metadata": {},
   "outputs": [
    {
     "name": "stdout",
     "output_type": "stream",
     "text": [
      "-0.0010041561791078735\n"
     ]
    }
   ],
   "source": [
    " print(np.sum(Y-np.dot(A,X)))"
   ]
  },
  {
   "cell_type": "markdown",
   "metadata": {},
   "source": [
    "# Lee and Seung -- multiplicative iterative method"
   ]
  },
  {
   "cell_type": "code",
   "execution_count": 71,
   "metadata": {},
   "outputs": [],
   "source": [
    "ddim=2\n",
    "A0=np.random.rand(np.shape(Y)[0],ddim)\n",
    "X0=np.random.rand(ddim,np.shape(Y)[1])"
   ]
  },
  {
   "cell_type": "code",
   "execution_count": 72,
   "metadata": {},
   "outputs": [],
   "source": [
    "A=np.copy(A0)\n",
    "X=np.copy(X0)\n",
    "epsilon=1.e-7\n",
    "for i in range(0,10000):\n",
    "    Wt = np.dot(Y,X.T)\n",
    "    Wb = np.dot(np.dot(A,X),X.T) + epsilon\n",
    "    #print(np.shape(Wt/Wb),np.shape(A))\n",
    "    A = A*(Wt/Wb)\n",
    "\n",
    "    Wt = np.dot(A.T,Y)\n",
    "    Wb = np.dot(np.dot(A.T,A),X) + epsilon \n",
    "    X = X*(Wt/Wb)"
   ]
  },
  {
   "cell_type": "code",
   "execution_count": 73,
   "metadata": {},
   "outputs": [
    {
     "name": "stdout",
     "output_type": "stream",
     "text": [
      "1.232345265833601e-07\n"
     ]
    }
   ],
   "source": [
    "    print(np.sum(Y-np.dot(A,X)))"
   ]
  },
  {
   "cell_type": "markdown",
   "metadata": {},
   "source": [
    "# NMR using scipy-NNLS"
   ]
  },
  {
   "cell_type": "code",
   "execution_count": 74,
   "metadata": {},
   "outputs": [],
   "source": [
    "ddim=2\n",
    "A0=np.random.rand(np.shape(Y)[0],ddim)\n",
    "X0=np.random.rand(ddim,np.shape(Y)[1])"
   ]
  },
  {
   "cell_type": "code",
   "execution_count": 76,
   "metadata": {},
   "outputs": [
    {
     "data": {
      "text/plain": [
       "array([0.40490753, 0.15587824, 0.29444525, 0.37716697, 0.25986806,\n",
       "       0.17366056])"
      ]
     },
     "execution_count": 76,
     "metadata": {},
     "output_type": "execute_result"
    }
   ],
   "source": [
    "np.dot(A0,X0[:,0])"
   ]
  },
  {
   "cell_type": "code",
   "execution_count": 82,
   "metadata": {},
   "outputs": [
    {
     "name": "stdout",
     "output_type": "stream",
     "text": [
      "[ 0.         21.99848661]\n",
      "[ 5.88322043 31.9537992 ]\n"
     ]
    }
   ],
   "source": [
    "A=np.copy(A0)\n",
    "X=np.copy(X0)\n",
    "epsilon=1.e-7\n",
    "for i in range(0,1):\n",
    "    for j in range(0,ddim):\n",
    "        # solve NNLS of Y[:,j]\n",
    "        hj=scipy.optimize.nnls(A0,Y[:,j])[0]\n",
    "        print(hj)\n",
    "        \n",
    "        #Als=\n",
    "        #bls="
   ]
  },
  {
   "cell_type": "code",
   "execution_count": null,
   "metadata": {},
   "outputs": [],
   "source": []
  }
 ],
 "metadata": {
  "kernelspec": {
   "display_name": "Python 3",
   "language": "python",
   "name": "python3"
  },
  "language_info": {
   "codemirror_mode": {
    "name": "ipython",
    "version": 3
   },
   "file_extension": ".py",
   "mimetype": "text/x-python",
   "name": "python",
   "nbconvert_exporter": "python",
   "pygments_lexer": "ipython3",
   "version": "3.7.3"
  }
 },
 "nbformat": 4,
 "nbformat_minor": 2
}
