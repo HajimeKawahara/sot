{
 "cells": [
  {
   "cell_type": "code",
   "execution_count": 60,
   "metadata": {},
   "outputs": [],
   "source": [
    "import numpy as np\n",
    "from sklearn.decomposition import NMF"
   ]
  },
  {
   "cell_type": "code",
   "execution_count": 61,
   "metadata": {},
   "outputs": [],
   "source": [
    "Y = np.array([[1, 1], [2, 1], [3, 1.2], [4, 1], [5, 0.8], [6, 1]])"
   ]
  },
  {
   "cell_type": "code",
   "execution_count": 62,
   "metadata": {},
   "outputs": [],
   "source": [
    "# Use scikit learn NMR"
   ]
  },
  {
   "cell_type": "code",
   "execution_count": 63,
   "metadata": {},
   "outputs": [],
   "source": [
    "model = NMF(n_components=2, init='random', random_state=0)\n",
    "A = model.fit_transform(Y)\n",
    "X = model.components_"
   ]
  },
  {
   "cell_type": "code",
   "execution_count": 64,
   "metadata": {},
   "outputs": [
    {
     "data": {
      "text/plain": [
       "((6, 2), (6, 2), (2, 2))"
      ]
     },
     "execution_count": 64,
     "metadata": {},
     "output_type": "execute_result"
    }
   ],
   "source": [
    "np.shape(Y),np.shape(A),np.shape(X)"
   ]
  },
  {
   "cell_type": "code",
   "execution_count": 65,
   "metadata": {},
   "outputs": [
    {
     "data": {
      "text/plain": [
       "array([[-6.35579822e-04,  6.36528773e-04],\n",
       "       [ 3.40231372e-04, -3.40739354e-04],\n",
       "       [ 3.45147253e-04, -3.45662574e-04],\n",
       "       [ 1.31898319e-04, -1.32095249e-04],\n",
       "       [-9.00218123e-05,  9.01562192e-05],\n",
       "       [-8.58722020e-05,  8.60004133e-05]])"
      ]
     },
     "execution_count": 65,
     "metadata": {},
     "output_type": "execute_result"
    }
   ],
   "source": [
    "Y-np.dot(A,X)"
   ]
  },
  {
   "cell_type": "code",
   "execution_count": null,
   "metadata": {},
   "outputs": [],
   "source": [
    "# Lee and Seung -- multiplicative iterative method"
   ]
  },
  {
   "cell_type": "code",
   "execution_count": 78,
   "metadata": {},
   "outputs": [],
   "source": [
    "ddim=2\n",
    "A0=np.random.rand(np.shape(Y)[0],ddim)\n",
    "X0=np.random.rand(ddim,np.shape(Y)[1])"
   ]
  },
  {
   "cell_type": "code",
   "execution_count": 79,
   "metadata": {},
   "outputs": [],
   "source": [
    "A=np.copy(A0)\n",
    "X=np.copy(X0)\n",
    "epsilon=1.e-6\n",
    "for i in range(0,1000):\n",
    "    Wt = np.dot(Y,X.T)\n",
    "    Wb = np.dot(np.dot(A,X),X.T) + epsilon\n",
    "    #print(np.shape(Wt/Wb),np.shape(A))\n",
    "    A = A*(Wt/Wb)\n",
    "\n",
    "    Wt = np.dot(A.T,Y)\n",
    "    Wb = np.dot(np.dot(A.T,A),X) + epsilon \n",
    "    X = X*(Wt/Wb)"
   ]
  },
  {
   "cell_type": "code",
   "execution_count": 80,
   "metadata": {},
   "outputs": [
    {
     "name": "stdout",
     "output_type": "stream",
     "text": [
      "1.8918906343756703e-06\n"
     ]
    }
   ],
   "source": [
    "    print(np.sum(Y-np.dot(A,X)))"
   ]
  },
  {
   "cell_type": "code",
   "execution_count": 81,
   "metadata": {},
   "outputs": [
    {
     "data": {
      "text/plain": [
       "array([[1.39282109e+00, 1.27900056e-08],\n",
       "       [1.39152262e+00, 9.85588935e-01],\n",
       "       [1.66904777e+00, 1.77406075e+00],\n",
       "       [1.38892434e+00, 2.95676866e+00],\n",
       "       [1.10880091e+00, 4.13947657e+00],\n",
       "       [1.38632607e+00, 4.92794839e+00]])"
      ]
     },
     "execution_count": 81,
     "metadata": {},
     "output_type": "execute_result"
    }
   ],
   "source": [
    "A"
   ]
  },
  {
   "cell_type": "code",
   "execution_count": 82,
   "metadata": {},
   "outputs": [
    {
     "data": {
      "text/plain": [
       "array([[7.17967074e-01, 7.17966864e-01],\n",
       "       [1.01556741e+00, 9.46412616e-04]])"
      ]
     },
     "execution_count": 82,
     "metadata": {},
     "output_type": "execute_result"
    }
   ],
   "source": [
    "X"
   ]
  },
  {
   "cell_type": "code",
   "execution_count": null,
   "metadata": {},
   "outputs": [],
   "source": []
  }
 ],
 "metadata": {
  "kernelspec": {
   "display_name": "Python 3",
   "language": "python",
   "name": "python3"
  },
  "language_info": {
   "codemirror_mode": {
    "name": "ipython",
    "version": 3
   },
   "file_extension": ".py",
   "mimetype": "text/x-python",
   "name": "python",
   "nbconvert_exporter": "python",
   "pygments_lexer": "ipython3",
   "version": "3.7.3"
  }
 },
 "nbformat": 4,
 "nbformat_minor": 2
}
